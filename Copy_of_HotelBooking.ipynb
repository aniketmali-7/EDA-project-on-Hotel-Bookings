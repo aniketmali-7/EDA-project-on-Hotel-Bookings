{
  "nbformat": 4,
  "nbformat_minor": 0,
  "metadata": {
    "colab": {
      "provenance": [],
      "include_colab_link": true
    },
    "kernelspec": {
      "name": "python3",
      "display_name": "Python 3"
    },
    "language_info": {
      "name": "python"
    },
    "gpuClass": "standard"
  },
  "cells": [
    {
      "cell_type": "markdown",
      "metadata": {
        "id": "view-in-github",
        "colab_type": "text"
      },
      "source": [
        "<a href=\"https://colab.research.google.com/github/aniketmali-7/EDA-project-on-Hotel-Bookings/blob/main/Copy_of_HotelBooking.ipynb\" target=\"_parent\"><img src=\"https://colab.research.google.com/assets/colab-badge.svg\" alt=\"Open In Colab\"/></a>"
      ]
    },
    {
      "cell_type": "markdown",
      "source": [
        "# **Hotel Booking Analysis**    \n",
        "\n"
      ],
      "metadata": {
        "id": "vncDsAP0Gaoa"
      }
    },
    {
      "cell_type": "markdown",
      "source": [
        "##### **Project Type**    - EDA\n",
        "##### **Contribution**    - Team\n",
        "##### **Team Member 1 -** - Aniket Mali\n",
        "##### **Team Member 2 -** - Rishabh Kaundilya\n",
        "##### **Team Member 3 -** - Suraj Kumar\n",
        "##### **Team Member 4 -**"
      ],
      "metadata": {
        "id": "beRrZCGUAJYm"
      }
    },
    {
      "cell_type": "markdown",
      "source": [
        "# **Project Summary**"
      ],
      "metadata": {
        "id": "FJNUwmbgGyua"
      }
    },
    {
      "cell_type": "markdown",
      "source": [
        "Hotel Booking EDA is an exploratory data analysis project that analyzes hotel booking data. The dataset used in the project contains information on bookings made by guests such as booking dates, lead times, number of adults/children, room types, and cancellation status. The main objective of this EDA is to gain insights into the booking patterns and trends of guests and to identify factors that contribute to booking cancellations.\n",
        "    The analysis includes data cleaning, data visualization, and statistical analysis using Python libraries such as pandas, numpy, matplotlib, and seaborn. The findings of this EDA can be useful for hotel managers and marketers to optimize their pricing strategies, room allocation, and cancellation policies.\n",
        "\n",
        "\n",
        "\n",
        "\n",
        "\n",
        "\n",
        "\n"
      ],
      "metadata": {
        "id": "F6v_1wHtG2nS"
      }
    },
    {
      "cell_type": "markdown",
      "source": [
        "# **GitHub Link**"
      ],
      "metadata": {
        "id": "w6K7xa23Elo4"
      }
    },
    {
      "cell_type": "markdown",
      "source": [
        "https://github.com/aniketmali-7/EDA-project-on-Hotel-Bookings.git"
      ],
      "metadata": {
        "id": "h1o69JH3Eqqn"
      }
    },
    {
      "cell_type": "markdown",
      "source": [
        "# **Problem Statement**\n"
      ],
      "metadata": {
        "id": "yQaldy8SH6Dl"
      }
    },
    {
      "cell_type": "markdown",
      "source": [
        "**The hotel industry is a highly competitive market, and hotels must continually update their strategies to remain profitable and attract customers.The aim of this project is to perform an exploratory data analysis (EDA) of hotel booking data to gain insights into guests' booking patterns and trends and to identify factors that contribute to booking cancellations,and also helps hotels to improve then to get more customers**"
      ],
      "metadata": {
        "id": "DpeJGUA3kjGy"
      }
    },
    {
      "cell_type": "markdown",
      "source": [
        "#### **Business Objective:**"
      ],
      "metadata": {
        "id": "PH-0ReGfmX4f"
      }
    },
    {
      "cell_type": "markdown",
      "source": [
        "**The agenda of  Hotel Booking EDA project is to provide valuable observations for there booking patterns and to identify factors that affects to booking cancellations and increse customers so that hotels can improve their operations, increase customer satisfaction, and increase revenue and profitability.**"
      ],
      "metadata": {
        "id": "PhDvGCAqmjP1"
      }
    },
    {
      "cell_type": "markdown",
      "source": [
        "# **Let's Begin !**"
      ],
      "metadata": {
        "id": "O_i_v8NEhb9l"
      }
    },
    {
      "cell_type": "markdown",
      "source": [
        "## **Let's Know Data**"
      ],
      "metadata": {
        "id": "HhfV-JJviCcP"
      }
    },
    {
      "cell_type": "markdown",
      "source": [
        "### Importing the Libraries"
      ],
      "metadata": {
        "id": "Y3lxredqlCYt"
      }
    },
    {
      "cell_type": "code",
      "source": [
        "# Import Libraries\n",
        "import pandas as pd\n",
        "import numpy as np\n",
        "import matplotlib.pyplot as plt\n",
        "import seaborn as sns"
      ],
      "metadata": {
        "id": "M8Vqi-pPk-HR"
      },
      "execution_count": null,
      "outputs": []
    },
    {
      "cell_type": "markdown",
      "source": [
        "### Dataset Loading"
      ],
      "metadata": {
        "id": "3RnN4peoiCZX"
      }
    },
    {
      "cell_type": "code",
      "source": [
        "# loading data set using github\n",
        "url = 'https://raw.githubusercontent.com/aniketmali-7/EDA-project-on-Hotel-Bookings/main/Hotel%20Bookings.csv'\n",
        "df = pd.read_csv(url)\n",
        "# Dataset is now stored in a Pandas Dataframe"
      ],
      "metadata": {
        "id": "XUsXHmWbcnNc"
      },
      "execution_count": null,
      "outputs": []
    },
    {
      "cell_type": "markdown",
      "source": [
        "### Dataset First View"
      ],
      "metadata": {
        "id": "x71ZqKXriCWQ"
      }
    },
    {
      "cell_type": "code",
      "source": [
        "# Let's see frist view of our Dataset.\n",
        "df.head()"
      ],
      "metadata": {
        "id": "LWNFOSvLl09H",
        "colab": {
          "base_uri": "https://localhost:8080/",
          "height": 386
        },
        "outputId": "3b870874-42c5-4c27-91e8-58a01adae201"
      },
      "execution_count": null,
      "outputs": [
        {
          "output_type": "execute_result",
          "data": {
            "text/plain": [
              "          hotel  is_canceled  lead_time  arrival_date_year arrival_date_month  \\\n",
              "0  Resort Hotel            0        342               2015               July   \n",
              "1  Resort Hotel            0        737               2015               July   \n",
              "2  Resort Hotel            0          7               2015               July   \n",
              "3  Resort Hotel            0         13               2015               July   \n",
              "4  Resort Hotel            0         14               2015               July   \n",
              "\n",
              "   arrival_date_week_number  arrival_date_day_of_month  \\\n",
              "0                        27                          1   \n",
              "1                        27                          1   \n",
              "2                        27                          1   \n",
              "3                        27                          1   \n",
              "4                        27                          1   \n",
              "\n",
              "   stays_in_weekend_nights  stays_in_week_nights  adults  ...  deposit_type  \\\n",
              "0                        0                     0       2  ...    No Deposit   \n",
              "1                        0                     0       2  ...    No Deposit   \n",
              "2                        0                     1       1  ...    No Deposit   \n",
              "3                        0                     1       1  ...    No Deposit   \n",
              "4                        0                     2       2  ...    No Deposit   \n",
              "\n",
              "   agent company days_in_waiting_list customer_type   adr  \\\n",
              "0    NaN     NaN                    0     Transient   0.0   \n",
              "1    NaN     NaN                    0     Transient   0.0   \n",
              "2    NaN     NaN                    0     Transient  75.0   \n",
              "3  304.0     NaN                    0     Transient  75.0   \n",
              "4  240.0     NaN                    0     Transient  98.0   \n",
              "\n",
              "   required_car_parking_spaces  total_of_special_requests  reservation_status  \\\n",
              "0                            0                          0           Check-Out   \n",
              "1                            0                          0           Check-Out   \n",
              "2                            0                          0           Check-Out   \n",
              "3                            0                          0           Check-Out   \n",
              "4                            0                          1           Check-Out   \n",
              "\n",
              "  reservation_status_date  \n",
              "0              2015-07-01  \n",
              "1              2015-07-01  \n",
              "2              2015-07-02  \n",
              "3              2015-07-02  \n",
              "4              2015-07-03  \n",
              "\n",
              "[5 rows x 32 columns]"
            ],
            "text/html": [
              "\n",
              "  <div id=\"df-58497b78-8f0b-42ad-9f41-bb331078a04e\">\n",
              "    <div class=\"colab-df-container\">\n",
              "      <div>\n",
              "<style scoped>\n",
              "    .dataframe tbody tr th:only-of-type {\n",
              "        vertical-align: middle;\n",
              "    }\n",
              "\n",
              "    .dataframe tbody tr th {\n",
              "        vertical-align: top;\n",
              "    }\n",
              "\n",
              "    .dataframe thead th {\n",
              "        text-align: right;\n",
              "    }\n",
              "</style>\n",
              "<table border=\"1\" class=\"dataframe\">\n",
              "  <thead>\n",
              "    <tr style=\"text-align: right;\">\n",
              "      <th></th>\n",
              "      <th>hotel</th>\n",
              "      <th>is_canceled</th>\n",
              "      <th>lead_time</th>\n",
              "      <th>arrival_date_year</th>\n",
              "      <th>arrival_date_month</th>\n",
              "      <th>arrival_date_week_number</th>\n",
              "      <th>arrival_date_day_of_month</th>\n",
              "      <th>stays_in_weekend_nights</th>\n",
              "      <th>stays_in_week_nights</th>\n",
              "      <th>adults</th>\n",
              "      <th>...</th>\n",
              "      <th>deposit_type</th>\n",
              "      <th>agent</th>\n",
              "      <th>company</th>\n",
              "      <th>days_in_waiting_list</th>\n",
              "      <th>customer_type</th>\n",
              "      <th>adr</th>\n",
              "      <th>required_car_parking_spaces</th>\n",
              "      <th>total_of_special_requests</th>\n",
              "      <th>reservation_status</th>\n",
              "      <th>reservation_status_date</th>\n",
              "    </tr>\n",
              "  </thead>\n",
              "  <tbody>\n",
              "    <tr>\n",
              "      <th>0</th>\n",
              "      <td>Resort Hotel</td>\n",
              "      <td>0</td>\n",
              "      <td>342</td>\n",
              "      <td>2015</td>\n",
              "      <td>July</td>\n",
              "      <td>27</td>\n",
              "      <td>1</td>\n",
              "      <td>0</td>\n",
              "      <td>0</td>\n",
              "      <td>2</td>\n",
              "      <td>...</td>\n",
              "      <td>No Deposit</td>\n",
              "      <td>NaN</td>\n",
              "      <td>NaN</td>\n",
              "      <td>0</td>\n",
              "      <td>Transient</td>\n",
              "      <td>0.0</td>\n",
              "      <td>0</td>\n",
              "      <td>0</td>\n",
              "      <td>Check-Out</td>\n",
              "      <td>2015-07-01</td>\n",
              "    </tr>\n",
              "    <tr>\n",
              "      <th>1</th>\n",
              "      <td>Resort Hotel</td>\n",
              "      <td>0</td>\n",
              "      <td>737</td>\n",
              "      <td>2015</td>\n",
              "      <td>July</td>\n",
              "      <td>27</td>\n",
              "      <td>1</td>\n",
              "      <td>0</td>\n",
              "      <td>0</td>\n",
              "      <td>2</td>\n",
              "      <td>...</td>\n",
              "      <td>No Deposit</td>\n",
              "      <td>NaN</td>\n",
              "      <td>NaN</td>\n",
              "      <td>0</td>\n",
              "      <td>Transient</td>\n",
              "      <td>0.0</td>\n",
              "      <td>0</td>\n",
              "      <td>0</td>\n",
              "      <td>Check-Out</td>\n",
              "      <td>2015-07-01</td>\n",
              "    </tr>\n",
              "    <tr>\n",
              "      <th>2</th>\n",
              "      <td>Resort Hotel</td>\n",
              "      <td>0</td>\n",
              "      <td>7</td>\n",
              "      <td>2015</td>\n",
              "      <td>July</td>\n",
              "      <td>27</td>\n",
              "      <td>1</td>\n",
              "      <td>0</td>\n",
              "      <td>1</td>\n",
              "      <td>1</td>\n",
              "      <td>...</td>\n",
              "      <td>No Deposit</td>\n",
              "      <td>NaN</td>\n",
              "      <td>NaN</td>\n",
              "      <td>0</td>\n",
              "      <td>Transient</td>\n",
              "      <td>75.0</td>\n",
              "      <td>0</td>\n",
              "      <td>0</td>\n",
              "      <td>Check-Out</td>\n",
              "      <td>2015-07-02</td>\n",
              "    </tr>\n",
              "    <tr>\n",
              "      <th>3</th>\n",
              "      <td>Resort Hotel</td>\n",
              "      <td>0</td>\n",
              "      <td>13</td>\n",
              "      <td>2015</td>\n",
              "      <td>July</td>\n",
              "      <td>27</td>\n",
              "      <td>1</td>\n",
              "      <td>0</td>\n",
              "      <td>1</td>\n",
              "      <td>1</td>\n",
              "      <td>...</td>\n",
              "      <td>No Deposit</td>\n",
              "      <td>304.0</td>\n",
              "      <td>NaN</td>\n",
              "      <td>0</td>\n",
              "      <td>Transient</td>\n",
              "      <td>75.0</td>\n",
              "      <td>0</td>\n",
              "      <td>0</td>\n",
              "      <td>Check-Out</td>\n",
              "      <td>2015-07-02</td>\n",
              "    </tr>\n",
              "    <tr>\n",
              "      <th>4</th>\n",
              "      <td>Resort Hotel</td>\n",
              "      <td>0</td>\n",
              "      <td>14</td>\n",
              "      <td>2015</td>\n",
              "      <td>July</td>\n",
              "      <td>27</td>\n",
              "      <td>1</td>\n",
              "      <td>0</td>\n",
              "      <td>2</td>\n",
              "      <td>2</td>\n",
              "      <td>...</td>\n",
              "      <td>No Deposit</td>\n",
              "      <td>240.0</td>\n",
              "      <td>NaN</td>\n",
              "      <td>0</td>\n",
              "      <td>Transient</td>\n",
              "      <td>98.0</td>\n",
              "      <td>0</td>\n",
              "      <td>1</td>\n",
              "      <td>Check-Out</td>\n",
              "      <td>2015-07-03</td>\n",
              "    </tr>\n",
              "  </tbody>\n",
              "</table>\n",
              "<p>5 rows × 32 columns</p>\n",
              "</div>\n",
              "      <button class=\"colab-df-convert\" onclick=\"convertToInteractive('df-58497b78-8f0b-42ad-9f41-bb331078a04e')\"\n",
              "              title=\"Convert this dataframe to an interactive table.\"\n",
              "              style=\"display:none;\">\n",
              "        \n",
              "  <svg xmlns=\"http://www.w3.org/2000/svg\" height=\"24px\"viewBox=\"0 0 24 24\"\n",
              "       width=\"24px\">\n",
              "    <path d=\"M0 0h24v24H0V0z\" fill=\"none\"/>\n",
              "    <path d=\"M18.56 5.44l.94 2.06.94-2.06 2.06-.94-2.06-.94-.94-2.06-.94 2.06-2.06.94zm-11 1L8.5 8.5l.94-2.06 2.06-.94-2.06-.94L8.5 2.5l-.94 2.06-2.06.94zm10 10l.94 2.06.94-2.06 2.06-.94-2.06-.94-.94-2.06-.94 2.06-2.06.94z\"/><path d=\"M17.41 7.96l-1.37-1.37c-.4-.4-.92-.59-1.43-.59-.52 0-1.04.2-1.43.59L10.3 9.45l-7.72 7.72c-.78.78-.78 2.05 0 2.83L4 21.41c.39.39.9.59 1.41.59.51 0 1.02-.2 1.41-.59l7.78-7.78 2.81-2.81c.8-.78.8-2.07 0-2.86zM5.41 20L4 18.59l7.72-7.72 1.47 1.35L5.41 20z\"/>\n",
              "  </svg>\n",
              "      </button>\n",
              "      \n",
              "  <style>\n",
              "    .colab-df-container {\n",
              "      display:flex;\n",
              "      flex-wrap:wrap;\n",
              "      gap: 12px;\n",
              "    }\n",
              "\n",
              "    .colab-df-convert {\n",
              "      background-color: #E8F0FE;\n",
              "      border: none;\n",
              "      border-radius: 50%;\n",
              "      cursor: pointer;\n",
              "      display: none;\n",
              "      fill: #1967D2;\n",
              "      height: 32px;\n",
              "      padding: 0 0 0 0;\n",
              "      width: 32px;\n",
              "    }\n",
              "\n",
              "    .colab-df-convert:hover {\n",
              "      background-color: #E2EBFA;\n",
              "      box-shadow: 0px 1px 2px rgba(60, 64, 67, 0.3), 0px 1px 3px 1px rgba(60, 64, 67, 0.15);\n",
              "      fill: #174EA6;\n",
              "    }\n",
              "\n",
              "    [theme=dark] .colab-df-convert {\n",
              "      background-color: #3B4455;\n",
              "      fill: #D2E3FC;\n",
              "    }\n",
              "\n",
              "    [theme=dark] .colab-df-convert:hover {\n",
              "      background-color: #434B5C;\n",
              "      box-shadow: 0px 1px 3px 1px rgba(0, 0, 0, 0.15);\n",
              "      filter: drop-shadow(0px 1px 2px rgba(0, 0, 0, 0.3));\n",
              "      fill: #FFFFFF;\n",
              "    }\n",
              "  </style>\n",
              "\n",
              "      <script>\n",
              "        const buttonEl =\n",
              "          document.querySelector('#df-58497b78-8f0b-42ad-9f41-bb331078a04e button.colab-df-convert');\n",
              "        buttonEl.style.display =\n",
              "          google.colab.kernel.accessAllowed ? 'block' : 'none';\n",
              "\n",
              "        async function convertToInteractive(key) {\n",
              "          const element = document.querySelector('#df-58497b78-8f0b-42ad-9f41-bb331078a04e');\n",
              "          const dataTable =\n",
              "            await google.colab.kernel.invokeFunction('convertToInteractive',\n",
              "                                                     [key], {});\n",
              "          if (!dataTable) return;\n",
              "\n",
              "          const docLinkHtml = 'Like what you see? Visit the ' +\n",
              "            '<a target=\"_blank\" href=https://colab.research.google.com/notebooks/data_table.ipynb>data table notebook</a>'\n",
              "            + ' to learn more about interactive tables.';\n",
              "          element.innerHTML = '';\n",
              "          dataTable['output_type'] = 'display_data';\n",
              "          await google.colab.output.renderOutput(dataTable, element);\n",
              "          const docLink = document.createElement('div');\n",
              "          docLink.innerHTML = docLinkHtml;\n",
              "          element.appendChild(docLink);\n",
              "        }\n",
              "      </script>\n",
              "    </div>\n",
              "  </div>\n",
              "  "
            ]
          },
          "metadata": {},
          "execution_count": 229
        }
      ]
    },
    {
      "cell_type": "markdown",
      "source": [
        "### What did you know about your dataset?"
      ],
      "metadata": {
        "id": "3w3yNdCAM81g"
      }
    },
    {
      "cell_type": "markdown",
      "source": [
        "The dataset contains two hotel types: Resort Hotel and City Hotel.\n",
        "\n",
        "The booking period ranges from July 2015 to August 2017.\n",
        "\n",
        "There are two types of bookings: canceled and not canceled.\n",
        "\n",
        "There are several numerical and categorical variables that describe the booking information, including booking date, arrival and departure dates, number of adults and children, room type, meal type, and market segment.\n",
        "\n",
        "There are also several variables that describe the hotel information, including hotel location, hotel type, and the number of rooms.\n",
        "\n",
        "The dataset includes missing/null values in some columns, including the country, agent, and company columns.\n",
        "\n",
        "The dataset can be used for various purposes, such as exploring booking patterns, identifying seasonal trends, and predicting cancellation rates."
      ],
      "metadata": {
        "id": "YrmyOp3XM81g"
      }
    },
    {
      "cell_type": "markdown",
      "source": [
        "### Dataset Rows & Columns count"
      ],
      "metadata": {
        "id": "7hBIi_osiCS2"
      }
    },
    {
      "cell_type": "code",
      "source": [
        "# Dataset Rows & Columns count:\n",
        "\n",
        "df.shape # this will give total numner of rows and column (rows,columns)\n",
        "\n",
        "# In this dataset there is 119390 rows and 32 columns"
      ],
      "metadata": {
        "id": "Kllu7SJgmLij",
        "colab": {
          "base_uri": "https://localhost:8080/"
        },
        "outputId": "01bfc4a8-364a-4e74-d040-1ecb3b60563c"
      },
      "execution_count": null,
      "outputs": [
        {
          "output_type": "execute_result",
          "data": {
            "text/plain": [
              "(119390, 32)"
            ]
          },
          "metadata": {},
          "execution_count": 230
        }
      ]
    },
    {
      "cell_type": "markdown",
      "source": [
        "### Dataset Columns "
      ],
      "metadata": {
        "id": "WItilbbC3BCZ"
      }
    },
    {
      "cell_type": "code",
      "source": [
        "# total columns in dataset\n",
        "df.columns "
      ],
      "metadata": {
        "id": "1HE0fBKk3Ar5",
        "colab": {
          "base_uri": "https://localhost:8080/"
        },
        "outputId": "8bb06c19-49d4-46ae-e070-0a5700a6b827"
      },
      "execution_count": null,
      "outputs": [
        {
          "output_type": "execute_result",
          "data": {
            "text/plain": [
              "Index(['hotel', 'is_canceled', 'lead_time', 'arrival_date_year',\n",
              "       'arrival_date_month', 'arrival_date_week_number',\n",
              "       'arrival_date_day_of_month', 'stays_in_weekend_nights',\n",
              "       'stays_in_week_nights', 'adults', 'children', 'babies', 'meal',\n",
              "       'country', 'market_segment', 'distribution_channel',\n",
              "       'is_repeated_guest', 'previous_cancellations',\n",
              "       'previous_bookings_not_canceled', 'reserved_room_type',\n",
              "       'assigned_room_type', 'booking_changes', 'deposit_type', 'agent',\n",
              "       'company', 'days_in_waiting_list', 'customer_type', 'adr',\n",
              "       'required_car_parking_spaces', 'total_of_special_requests',\n",
              "       'reservation_status', 'reservation_status_date'],\n",
              "      dtype='object')"
            ]
          },
          "metadata": {},
          "execution_count": 231
        }
      ]
    },
    {
      "cell_type": "markdown",
      "source": [
        "### Dataset Information"
      ],
      "metadata": {
        "id": "JlHwYmJAmNHm"
      }
    },
    {
      "cell_type": "code",
      "source": [
        "# Dataset Info\n",
        "df.info()"
      ],
      "metadata": {
        "id": "e9hRXRi6meOf",
        "colab": {
          "base_uri": "https://localhost:8080/"
        },
        "outputId": "e7c4fce2-1175-4700-d03a-3ddc98ba4921"
      },
      "execution_count": null,
      "outputs": [
        {
          "output_type": "stream",
          "name": "stdout",
          "text": [
            "<class 'pandas.core.frame.DataFrame'>\n",
            "RangeIndex: 119390 entries, 0 to 119389\n",
            "Data columns (total 32 columns):\n",
            " #   Column                          Non-Null Count   Dtype  \n",
            "---  ------                          --------------   -----  \n",
            " 0   hotel                           119390 non-null  object \n",
            " 1   is_canceled                     119390 non-null  int64  \n",
            " 2   lead_time                       119390 non-null  int64  \n",
            " 3   arrival_date_year               119390 non-null  int64  \n",
            " 4   arrival_date_month              119390 non-null  object \n",
            " 5   arrival_date_week_number        119390 non-null  int64  \n",
            " 6   arrival_date_day_of_month       119390 non-null  int64  \n",
            " 7   stays_in_weekend_nights         119390 non-null  int64  \n",
            " 8   stays_in_week_nights            119390 non-null  int64  \n",
            " 9   adults                          119390 non-null  int64  \n",
            " 10  children                        119386 non-null  float64\n",
            " 11  babies                          119390 non-null  int64  \n",
            " 12  meal                            119390 non-null  object \n",
            " 13  country                         118902 non-null  object \n",
            " 14  market_segment                  119390 non-null  object \n",
            " 15  distribution_channel            119390 non-null  object \n",
            " 16  is_repeated_guest               119390 non-null  int64  \n",
            " 17  previous_cancellations          119390 non-null  int64  \n",
            " 18  previous_bookings_not_canceled  119390 non-null  int64  \n",
            " 19  reserved_room_type              119390 non-null  object \n",
            " 20  assigned_room_type              119390 non-null  object \n",
            " 21  booking_changes                 119390 non-null  int64  \n",
            " 22  deposit_type                    119390 non-null  object \n",
            " 23  agent                           103050 non-null  float64\n",
            " 24  company                         6797 non-null    float64\n",
            " 25  days_in_waiting_list            119390 non-null  int64  \n",
            " 26  customer_type                   119390 non-null  object \n",
            " 27  adr                             119390 non-null  float64\n",
            " 28  required_car_parking_spaces     119390 non-null  int64  \n",
            " 29  total_of_special_requests       119390 non-null  int64  \n",
            " 30  reservation_status              119390 non-null  object \n",
            " 31  reservation_status_date         119390 non-null  object \n",
            "dtypes: float64(4), int64(16), object(12)\n",
            "memory usage: 29.1+ MB\n"
          ]
        }
      ]
    },
    {
      "cell_type": "markdown",
      "source": [
        "### Discription of Data :\n",
        "\n",
        "\n",
        "\n",
        "\n",
        "**1.  hotel:** The type of (hotel Resort Hotel or City Hotel).\n",
        "\n",
        "**2.   is_canceled:** shows that  whether the booking was canceled or not \n",
        "                     (1 if canceled, 0 if not canceled).\n",
        "\n",
        "**3. \tlead_time:** The number of days between the booking date and the arrival date.  \n",
        "\n",
        "**4.\tarrival_date_year:** The year of the arrival date.\n",
        "\n",
        "**5.\tarrival_date_month:** The month of the arrival date.\n",
        "\n",
        "**6.\tarrival_date_week_number:** The week number of the arrival date.\n",
        "\n",
        "**7.\tarrival_date_day_of_month:** The day of the month of the arrival date.\n",
        "\n",
        "**8.\tstays_in_weekend_nights:** The number of weekend nights (sat and sun) the costomers stayed hotel.\n",
        "\n",
        "**9.\tstays_in_week_nights:** The number of week nights (mon-fri) the costomers stayed in hotel\n",
        "\n",
        "**10.\tadults:** The number of adults \n",
        "\n",
        "**11.\tchildren:** The number of children \n",
        "\n",
        "**12.\tbabies:** The number of babies \n",
        "\n",
        "**13.\tmeal:** The type of meal booked \n",
        "\n",
        "**14.\tcountry:** The country of origin of the guest.\n",
        "\n",
        "**15.\tmarket_segment:** The segment the booking was made for (e.g. Online Travel Agents, Corporate, Direct).\n",
        "\n",
        "**16.\tdistribution_channel:** The channel through which the booking was made (e.g. Online Travel Agents, Direct).\n",
        "\n",
        "**17.\tis_repeated_guest:** Indicates that whether the booking was made by a repeated guest or not (1 = repeated guest, 0 = not a repeated guest).\n",
        "\n",
        "**18.\tprevious_cancellations:** The number of previous bookings that were cancelled by the guest\n",
        "\n",
        "**19.\tprevious_bookings_not_canceled:** The number of previous bookings that were not cancelled by the guest.\n",
        "\n",
        "**20.\treserved_room_type:** The type of room that was reserved by the guest.\n",
        "\n",
        "**21.\tassigned_room_type:** The type of room that was actually assigned to the guest.\n",
        "\n",
        "**22.\tbooking_changes:** The changes made to the booking \n",
        "\n",
        "**23.\tdeposit_type:** The type of deposit.\n",
        "\n",
        "**24.\tagent:** The travel agency that made the booking.\n",
        "\n",
        "**25.\tdays_in_waiting_list:** The number of days the booking was on the waiting list \n",
        "\n",
        "**27.\tcustomer_type:** The type of booking \n",
        "\n",
        "**29.\trequired_car_parking_spaces:** The number of car parking spaces required by the customer.\n",
        "\n",
        "**30.\ttotal_of_special_requests:** The total number of special requests made by the customer (e.g. twin bed, high floor).\n",
        "\n",
        "**31.\treservation_status:** The status of the booking (e.g. Canceled, Check-Out, No-Show).\n",
        "\n",
        "**32.\treservation_status_date:** The date when the reservation status was last updated.\n",
        "\n",
        "\n",
        "\n",
        "\n",
        "\n",
        "\n",
        "\n",
        "\n",
        "\n",
        "\n",
        "  \n",
        "\n"
      ],
      "metadata": {
        "id": "1SwVk00xNxRs"
      }
    },
    {
      "cell_type": "code",
      "source": [
        "# Describeing the data which gives count mean,std,min,25%,50%,75% and max value of numerical data\n",
        "df.describe()"
      ],
      "metadata": {
        "id": "4TtAfmz3bEek",
        "colab": {
          "base_uri": "https://localhost:8080/",
          "height": 364
        },
        "outputId": "1bc9fda4-032a-41e3-b4c1-ca70581f8126"
      },
      "execution_count": null,
      "outputs": [
        {
          "output_type": "execute_result",
          "data": {
            "text/plain": [
              "         is_canceled      lead_time  arrival_date_year  \\\n",
              "count  119390.000000  119390.000000      119390.000000   \n",
              "mean        0.370416     104.011416        2016.156554   \n",
              "std         0.482918     106.863097           0.707476   \n",
              "min         0.000000       0.000000        2015.000000   \n",
              "25%         0.000000      18.000000        2016.000000   \n",
              "50%         0.000000      69.000000        2016.000000   \n",
              "75%         1.000000     160.000000        2017.000000   \n",
              "max         1.000000     737.000000        2017.000000   \n",
              "\n",
              "       arrival_date_week_number  arrival_date_day_of_month  \\\n",
              "count             119390.000000              119390.000000   \n",
              "mean                  27.165173                  15.798241   \n",
              "std                   13.605138                   8.780829   \n",
              "min                    1.000000                   1.000000   \n",
              "25%                   16.000000                   8.000000   \n",
              "50%                   28.000000                  16.000000   \n",
              "75%                   38.000000                  23.000000   \n",
              "max                   53.000000                  31.000000   \n",
              "\n",
              "       stays_in_weekend_nights  stays_in_week_nights         adults  \\\n",
              "count            119390.000000         119390.000000  119390.000000   \n",
              "mean                  0.927599              2.500302       1.856403   \n",
              "std                   0.998613              1.908286       0.579261   \n",
              "min                   0.000000              0.000000       0.000000   \n",
              "25%                   0.000000              1.000000       2.000000   \n",
              "50%                   1.000000              2.000000       2.000000   \n",
              "75%                   2.000000              3.000000       2.000000   \n",
              "max                  19.000000             50.000000      55.000000   \n",
              "\n",
              "            children         babies  is_repeated_guest  \\\n",
              "count  119386.000000  119390.000000      119390.000000   \n",
              "mean        0.103890       0.007949           0.031912   \n",
              "std         0.398561       0.097436           0.175767   \n",
              "min         0.000000       0.000000           0.000000   \n",
              "25%         0.000000       0.000000           0.000000   \n",
              "50%         0.000000       0.000000           0.000000   \n",
              "75%         0.000000       0.000000           0.000000   \n",
              "max        10.000000      10.000000           1.000000   \n",
              "\n",
              "       previous_cancellations  previous_bookings_not_canceled  \\\n",
              "count           119390.000000                   119390.000000   \n",
              "mean                 0.087118                        0.137097   \n",
              "std                  0.844336                        1.497437   \n",
              "min                  0.000000                        0.000000   \n",
              "25%                  0.000000                        0.000000   \n",
              "50%                  0.000000                        0.000000   \n",
              "75%                  0.000000                        0.000000   \n",
              "max                 26.000000                       72.000000   \n",
              "\n",
              "       booking_changes          agent      company  days_in_waiting_list  \\\n",
              "count    119390.000000  103050.000000  6797.000000         119390.000000   \n",
              "mean          0.221124      86.693382   189.266735              2.321149   \n",
              "std           0.652306     110.774548   131.655015             17.594721   \n",
              "min           0.000000       1.000000     6.000000              0.000000   \n",
              "25%           0.000000       9.000000    62.000000              0.000000   \n",
              "50%           0.000000      14.000000   179.000000              0.000000   \n",
              "75%           0.000000     229.000000   270.000000              0.000000   \n",
              "max          21.000000     535.000000   543.000000            391.000000   \n",
              "\n",
              "                 adr  required_car_parking_spaces  total_of_special_requests  \n",
              "count  119390.000000                119390.000000              119390.000000  \n",
              "mean      101.831122                     0.062518                   0.571363  \n",
              "std        50.535790                     0.245291                   0.792798  \n",
              "min        -6.380000                     0.000000                   0.000000  \n",
              "25%        69.290000                     0.000000                   0.000000  \n",
              "50%        94.575000                     0.000000                   0.000000  \n",
              "75%       126.000000                     0.000000                   1.000000  \n",
              "max      5400.000000                     8.000000                   5.000000  "
            ],
            "text/html": [
              "\n",
              "  <div id=\"df-f34be408-f88a-4371-9c93-a238b43e1882\">\n",
              "    <div class=\"colab-df-container\">\n",
              "      <div>\n",
              "<style scoped>\n",
              "    .dataframe tbody tr th:only-of-type {\n",
              "        vertical-align: middle;\n",
              "    }\n",
              "\n",
              "    .dataframe tbody tr th {\n",
              "        vertical-align: top;\n",
              "    }\n",
              "\n",
              "    .dataframe thead th {\n",
              "        text-align: right;\n",
              "    }\n",
              "</style>\n",
              "<table border=\"1\" class=\"dataframe\">\n",
              "  <thead>\n",
              "    <tr style=\"text-align: right;\">\n",
              "      <th></th>\n",
              "      <th>is_canceled</th>\n",
              "      <th>lead_time</th>\n",
              "      <th>arrival_date_year</th>\n",
              "      <th>arrival_date_week_number</th>\n",
              "      <th>arrival_date_day_of_month</th>\n",
              "      <th>stays_in_weekend_nights</th>\n",
              "      <th>stays_in_week_nights</th>\n",
              "      <th>adults</th>\n",
              "      <th>children</th>\n",
              "      <th>babies</th>\n",
              "      <th>is_repeated_guest</th>\n",
              "      <th>previous_cancellations</th>\n",
              "      <th>previous_bookings_not_canceled</th>\n",
              "      <th>booking_changes</th>\n",
              "      <th>agent</th>\n",
              "      <th>company</th>\n",
              "      <th>days_in_waiting_list</th>\n",
              "      <th>adr</th>\n",
              "      <th>required_car_parking_spaces</th>\n",
              "      <th>total_of_special_requests</th>\n",
              "    </tr>\n",
              "  </thead>\n",
              "  <tbody>\n",
              "    <tr>\n",
              "      <th>count</th>\n",
              "      <td>119390.000000</td>\n",
              "      <td>119390.000000</td>\n",
              "      <td>119390.000000</td>\n",
              "      <td>119390.000000</td>\n",
              "      <td>119390.000000</td>\n",
              "      <td>119390.000000</td>\n",
              "      <td>119390.000000</td>\n",
              "      <td>119390.000000</td>\n",
              "      <td>119386.000000</td>\n",
              "      <td>119390.000000</td>\n",
              "      <td>119390.000000</td>\n",
              "      <td>119390.000000</td>\n",
              "      <td>119390.000000</td>\n",
              "      <td>119390.000000</td>\n",
              "      <td>103050.000000</td>\n",
              "      <td>6797.000000</td>\n",
              "      <td>119390.000000</td>\n",
              "      <td>119390.000000</td>\n",
              "      <td>119390.000000</td>\n",
              "      <td>119390.000000</td>\n",
              "    </tr>\n",
              "    <tr>\n",
              "      <th>mean</th>\n",
              "      <td>0.370416</td>\n",
              "      <td>104.011416</td>\n",
              "      <td>2016.156554</td>\n",
              "      <td>27.165173</td>\n",
              "      <td>15.798241</td>\n",
              "      <td>0.927599</td>\n",
              "      <td>2.500302</td>\n",
              "      <td>1.856403</td>\n",
              "      <td>0.103890</td>\n",
              "      <td>0.007949</td>\n",
              "      <td>0.031912</td>\n",
              "      <td>0.087118</td>\n",
              "      <td>0.137097</td>\n",
              "      <td>0.221124</td>\n",
              "      <td>86.693382</td>\n",
              "      <td>189.266735</td>\n",
              "      <td>2.321149</td>\n",
              "      <td>101.831122</td>\n",
              "      <td>0.062518</td>\n",
              "      <td>0.571363</td>\n",
              "    </tr>\n",
              "    <tr>\n",
              "      <th>std</th>\n",
              "      <td>0.482918</td>\n",
              "      <td>106.863097</td>\n",
              "      <td>0.707476</td>\n",
              "      <td>13.605138</td>\n",
              "      <td>8.780829</td>\n",
              "      <td>0.998613</td>\n",
              "      <td>1.908286</td>\n",
              "      <td>0.579261</td>\n",
              "      <td>0.398561</td>\n",
              "      <td>0.097436</td>\n",
              "      <td>0.175767</td>\n",
              "      <td>0.844336</td>\n",
              "      <td>1.497437</td>\n",
              "      <td>0.652306</td>\n",
              "      <td>110.774548</td>\n",
              "      <td>131.655015</td>\n",
              "      <td>17.594721</td>\n",
              "      <td>50.535790</td>\n",
              "      <td>0.245291</td>\n",
              "      <td>0.792798</td>\n",
              "    </tr>\n",
              "    <tr>\n",
              "      <th>min</th>\n",
              "      <td>0.000000</td>\n",
              "      <td>0.000000</td>\n",
              "      <td>2015.000000</td>\n",
              "      <td>1.000000</td>\n",
              "      <td>1.000000</td>\n",
              "      <td>0.000000</td>\n",
              "      <td>0.000000</td>\n",
              "      <td>0.000000</td>\n",
              "      <td>0.000000</td>\n",
              "      <td>0.000000</td>\n",
              "      <td>0.000000</td>\n",
              "      <td>0.000000</td>\n",
              "      <td>0.000000</td>\n",
              "      <td>0.000000</td>\n",
              "      <td>1.000000</td>\n",
              "      <td>6.000000</td>\n",
              "      <td>0.000000</td>\n",
              "      <td>-6.380000</td>\n",
              "      <td>0.000000</td>\n",
              "      <td>0.000000</td>\n",
              "    </tr>\n",
              "    <tr>\n",
              "      <th>25%</th>\n",
              "      <td>0.000000</td>\n",
              "      <td>18.000000</td>\n",
              "      <td>2016.000000</td>\n",
              "      <td>16.000000</td>\n",
              "      <td>8.000000</td>\n",
              "      <td>0.000000</td>\n",
              "      <td>1.000000</td>\n",
              "      <td>2.000000</td>\n",
              "      <td>0.000000</td>\n",
              "      <td>0.000000</td>\n",
              "      <td>0.000000</td>\n",
              "      <td>0.000000</td>\n",
              "      <td>0.000000</td>\n",
              "      <td>0.000000</td>\n",
              "      <td>9.000000</td>\n",
              "      <td>62.000000</td>\n",
              "      <td>0.000000</td>\n",
              "      <td>69.290000</td>\n",
              "      <td>0.000000</td>\n",
              "      <td>0.000000</td>\n",
              "    </tr>\n",
              "    <tr>\n",
              "      <th>50%</th>\n",
              "      <td>0.000000</td>\n",
              "      <td>69.000000</td>\n",
              "      <td>2016.000000</td>\n",
              "      <td>28.000000</td>\n",
              "      <td>16.000000</td>\n",
              "      <td>1.000000</td>\n",
              "      <td>2.000000</td>\n",
              "      <td>2.000000</td>\n",
              "      <td>0.000000</td>\n",
              "      <td>0.000000</td>\n",
              "      <td>0.000000</td>\n",
              "      <td>0.000000</td>\n",
              "      <td>0.000000</td>\n",
              "      <td>0.000000</td>\n",
              "      <td>14.000000</td>\n",
              "      <td>179.000000</td>\n",
              "      <td>0.000000</td>\n",
              "      <td>94.575000</td>\n",
              "      <td>0.000000</td>\n",
              "      <td>0.000000</td>\n",
              "    </tr>\n",
              "    <tr>\n",
              "      <th>75%</th>\n",
              "      <td>1.000000</td>\n",
              "      <td>160.000000</td>\n",
              "      <td>2017.000000</td>\n",
              "      <td>38.000000</td>\n",
              "      <td>23.000000</td>\n",
              "      <td>2.000000</td>\n",
              "      <td>3.000000</td>\n",
              "      <td>2.000000</td>\n",
              "      <td>0.000000</td>\n",
              "      <td>0.000000</td>\n",
              "      <td>0.000000</td>\n",
              "      <td>0.000000</td>\n",
              "      <td>0.000000</td>\n",
              "      <td>0.000000</td>\n",
              "      <td>229.000000</td>\n",
              "      <td>270.000000</td>\n",
              "      <td>0.000000</td>\n",
              "      <td>126.000000</td>\n",
              "      <td>0.000000</td>\n",
              "      <td>1.000000</td>\n",
              "    </tr>\n",
              "    <tr>\n",
              "      <th>max</th>\n",
              "      <td>1.000000</td>\n",
              "      <td>737.000000</td>\n",
              "      <td>2017.000000</td>\n",
              "      <td>53.000000</td>\n",
              "      <td>31.000000</td>\n",
              "      <td>19.000000</td>\n",
              "      <td>50.000000</td>\n",
              "      <td>55.000000</td>\n",
              "      <td>10.000000</td>\n",
              "      <td>10.000000</td>\n",
              "      <td>1.000000</td>\n",
              "      <td>26.000000</td>\n",
              "      <td>72.000000</td>\n",
              "      <td>21.000000</td>\n",
              "      <td>535.000000</td>\n",
              "      <td>543.000000</td>\n",
              "      <td>391.000000</td>\n",
              "      <td>5400.000000</td>\n",
              "      <td>8.000000</td>\n",
              "      <td>5.000000</td>\n",
              "    </tr>\n",
              "  </tbody>\n",
              "</table>\n",
              "</div>\n",
              "      <button class=\"colab-df-convert\" onclick=\"convertToInteractive('df-f34be408-f88a-4371-9c93-a238b43e1882')\"\n",
              "              title=\"Convert this dataframe to an interactive table.\"\n",
              "              style=\"display:none;\">\n",
              "        \n",
              "  <svg xmlns=\"http://www.w3.org/2000/svg\" height=\"24px\"viewBox=\"0 0 24 24\"\n",
              "       width=\"24px\">\n",
              "    <path d=\"M0 0h24v24H0V0z\" fill=\"none\"/>\n",
              "    <path d=\"M18.56 5.44l.94 2.06.94-2.06 2.06-.94-2.06-.94-.94-2.06-.94 2.06-2.06.94zm-11 1L8.5 8.5l.94-2.06 2.06-.94-2.06-.94L8.5 2.5l-.94 2.06-2.06.94zm10 10l.94 2.06.94-2.06 2.06-.94-2.06-.94-.94-2.06-.94 2.06-2.06.94z\"/><path d=\"M17.41 7.96l-1.37-1.37c-.4-.4-.92-.59-1.43-.59-.52 0-1.04.2-1.43.59L10.3 9.45l-7.72 7.72c-.78.78-.78 2.05 0 2.83L4 21.41c.39.39.9.59 1.41.59.51 0 1.02-.2 1.41-.59l7.78-7.78 2.81-2.81c.8-.78.8-2.07 0-2.86zM5.41 20L4 18.59l7.72-7.72 1.47 1.35L5.41 20z\"/>\n",
              "  </svg>\n",
              "      </button>\n",
              "      \n",
              "  <style>\n",
              "    .colab-df-container {\n",
              "      display:flex;\n",
              "      flex-wrap:wrap;\n",
              "      gap: 12px;\n",
              "    }\n",
              "\n",
              "    .colab-df-convert {\n",
              "      background-color: #E8F0FE;\n",
              "      border: none;\n",
              "      border-radius: 50%;\n",
              "      cursor: pointer;\n",
              "      display: none;\n",
              "      fill: #1967D2;\n",
              "      height: 32px;\n",
              "      padding: 0 0 0 0;\n",
              "      width: 32px;\n",
              "    }\n",
              "\n",
              "    .colab-df-convert:hover {\n",
              "      background-color: #E2EBFA;\n",
              "      box-shadow: 0px 1px 2px rgba(60, 64, 67, 0.3), 0px 1px 3px 1px rgba(60, 64, 67, 0.15);\n",
              "      fill: #174EA6;\n",
              "    }\n",
              "\n",
              "    [theme=dark] .colab-df-convert {\n",
              "      background-color: #3B4455;\n",
              "      fill: #D2E3FC;\n",
              "    }\n",
              "\n",
              "    [theme=dark] .colab-df-convert:hover {\n",
              "      background-color: #434B5C;\n",
              "      box-shadow: 0px 1px 3px 1px rgba(0, 0, 0, 0.15);\n",
              "      filter: drop-shadow(0px 1px 2px rgba(0, 0, 0, 0.3));\n",
              "      fill: #FFFFFF;\n",
              "    }\n",
              "  </style>\n",
              "\n",
              "      <script>\n",
              "        const buttonEl =\n",
              "          document.querySelector('#df-f34be408-f88a-4371-9c93-a238b43e1882 button.colab-df-convert');\n",
              "        buttonEl.style.display =\n",
              "          google.colab.kernel.accessAllowed ? 'block' : 'none';\n",
              "\n",
              "        async function convertToInteractive(key) {\n",
              "          const element = document.querySelector('#df-f34be408-f88a-4371-9c93-a238b43e1882');\n",
              "          const dataTable =\n",
              "            await google.colab.kernel.invokeFunction('convertToInteractive',\n",
              "                                                     [key], {});\n",
              "          if (!dataTable) return;\n",
              "\n",
              "          const docLinkHtml = 'Like what you see? Visit the ' +\n",
              "            '<a target=\"_blank\" href=https://colab.research.google.com/notebooks/data_table.ipynb>data table notebook</a>'\n",
              "            + ' to learn more about interactive tables.';\n",
              "          element.innerHTML = '';\n",
              "          dataTable['output_type'] = 'display_data';\n",
              "          await google.colab.output.renderOutput(dataTable, element);\n",
              "          const docLink = document.createElement('div');\n",
              "          docLink.innerHTML = docLinkHtml;\n",
              "          element.appendChild(docLink);\n",
              "        }\n",
              "      </script>\n",
              "    </div>\n",
              "  </div>\n",
              "  "
            ]
          },
          "metadata": {},
          "execution_count": 233
        }
      ]
    },
    {
      "cell_type": "markdown",
      "source": [
        "# **Data Cleaning :-**"
      ],
      "metadata": {
        "id": "-2CLHbirOl5O"
      }
    },
    {
      "cell_type": "markdown",
      "source": [
        "#### Duplicate Values"
      ],
      "metadata": {
        "id": "35m5QtbWiB9F"
      }
    },
    {
      "cell_type": "code",
      "source": [
        "# Let's find Dataset Duplicate Value Count\n",
        "dublicate_value_count=df.duplicated().value_counts()\n",
        "print(dublicate_value_count)"
      ],
      "metadata": {
        "id": "1sLdpKYkmox0",
        "colab": {
          "base_uri": "https://localhost:8080/"
        },
        "outputId": "fba50878-3921-4c9d-f4ff-6689134ec914"
      },
      "execution_count": null,
      "outputs": [
        {
          "output_type": "stream",
          "name": "stdout",
          "text": [
            "False    87396\n",
            "True     31994\n",
            "dtype: int64\n"
          ]
        }
      ]
    },
    {
      "cell_type": "code",
      "source": [
        "# now let's visualize by plotting graph\n",
        "\n",
        "plt.rcParams['figure.figsize']=(10,7)\n",
        " \n",
        "dublicate_value_count.plot(kind='pie',explode = (0, 0.1),shadow=True, startangle=90,colors = ['red','Green'],autopct='%1.0f%%')\n",
        "plt.title('Dublicate Values in Data')\n",
        "plt.ylabel(' ')\n",
        "plt.xlabel('')\n",
        "plt.show()"
      ],
      "metadata": {
        "id": "8S8ZmFyUdXiR",
        "colab": {
          "base_uri": "https://localhost:8080/",
          "height": 427
        },
        "outputId": "5a675a38-00b2-455c-aa1a-22a28d3f2e12"
      },
      "execution_count": null,
      "outputs": [
        {
          "output_type": "display_data",
          "data": {
            "text/plain": [
              "<Figure size 720x504 with 1 Axes>"
            ],
            "image/png": "[encoded data removed]"
          },
          "metadata": {}
        }
      ]
    },
    {
      "cell_type": "markdown",
      "source": [
        "\n",
        "\n",
        "*   Pie chart shows 27% of duplicate data in dataset. This means that a portion of the data is repeated, which can affect the accuracy of the analysis. It is important to identify and remove these duplicates to ensure reliable results.\n",
        "\n",
        "\n"
      ],
      "metadata": {
        "id": "EopLGQLEjtE9"
      }
    },
    {
      "cell_type": "code",
      "source": [
        "# so now let's drop unwanted dublicates from our data.\n",
        "df=df.drop_duplicates()"
      ],
      "metadata": {
        "id": "5J5T5ejkDK4t"
      },
      "execution_count": null,
      "outputs": []
    },
    {
      "cell_type": "code",
      "source": [
        "# now let's see shape of the df\n",
        "df.shape\n"
      ],
      "metadata": {
        "id": "i0ruyUjuE0Kt",
        "colab": {
          "base_uri": "https://localhost:8080/"
        },
        "outputId": "3011e412-bf64-433a-c711-51625e6aeeb3"
      },
      "execution_count": null,
      "outputs": [
        {
          "output_type": "execute_result",
          "data": {
            "text/plain": [
              "(87396, 32)"
            ]
          },
          "metadata": {},
          "execution_count": 237
        }
      ]
    },
    {
      "cell_type": "markdown",
      "source": [
        "\n",
        "\n",
        "*   Now we successfuly removed the dublicates in dataframe\n",
        "\n",
        "\n"
      ],
      "metadata": {
        "id": "4uKjH4tSFNFz"
      }
    },
    {
      "cell_type": "markdown",
      "source": [
        "#### Missing Values/Null Values"
      ],
      "metadata": {
        "id": "PoPl-ycgm1ru"
      }
    },
    {
      "cell_type": "code",
      "source": [
        "# now let's handel the Missing Values/Null Values\n",
        "missing_values=df.isnull().sum()\n",
        "missing_values"
      ],
      "metadata": {
        "id": "GgHWkxvamxVg",
        "colab": {
          "base_uri": "https://localhost:8080/"
        },
        "outputId": "124169e8-dc95-43a8-f800-22cc3dd90161"
      },
      "execution_count": null,
      "outputs": [
        {
          "output_type": "execute_result",
          "data": {
            "text/plain": [
              "hotel                                 0\n",
              "is_canceled                           0\n",
              "lead_time                             0\n",
              "arrival_date_year                     0\n",
              "arrival_date_month                    0\n",
              "arrival_date_week_number              0\n",
              "arrival_date_day_of_month             0\n",
              "stays_in_weekend_nights               0\n",
              "stays_in_week_nights                  0\n",
              "adults                                0\n",
              "children                              4\n",
              "babies                                0\n",
              "meal                                  0\n",
              "country                             452\n",
              "market_segment                        0\n",
              "distribution_channel                  0\n",
              "is_repeated_guest                     0\n",
              "previous_cancellations                0\n",
              "previous_bookings_not_canceled        0\n",
              "reserved_room_type                    0\n",
              "assigned_room_type                    0\n",
              "booking_changes                       0\n",
              "deposit_type                          0\n",
              "agent                             12193\n",
              "company                           82137\n",
              "days_in_waiting_list                  0\n",
              "customer_type                         0\n",
              "adr                                   0\n",
              "required_car_parking_spaces           0\n",
              "total_of_special_requests             0\n",
              "reservation_status                    0\n",
              "reservation_status_date               0\n",
              "dtype: int64"
            ]
          },
          "metadata": {},
          "execution_count": 238
        }
      ]
    },
    {
      "cell_type": "markdown",
      "source": [
        "As we can see country , agent and company has Missing Values/Null Values, let's visualize this"
      ],
      "metadata": {
        "id": "a-KFLy8LF-M-"
      }
    },
    {
      "cell_type": "code",
      "source": [
        "# Calculate the percentage of missing values in each column\n",
        "missing_values = df.isnull().mean() * 100\n",
        "\n",
        "# Create a bar chart of missing values\n",
        "plt.figure(figsize=(10, 5))\n",
        "missing_values.plot.bar()\n",
        "plt.xlabel('Variables')\n",
        "plt.ylabel('Percentage of Missing Values')\n",
        "plt.title('Missing Values by Variables')\n",
        "plt.show()"
      ],
      "metadata": {
        "id": "9IySibubJjh3",
        "colab": {
          "base_uri": "https://localhost:8080/",
          "height": 527
        },
        "outputId": "828707f8-c0e2-4da3-bd60-b9ae0a32c3f7"
      },
      "execution_count": null,
      "outputs": [
        {
          "output_type": "display_data",
          "data": {
            "text/plain": [
              "<Figure size 720x360 with 1 Axes>"
            ],
            "image/png": "[encoded data removed]"
          },
          "metadata": {}
        }
      ]
    },
    {
      "cell_type": "markdown",
      "source": [
        "\n",
        "\n",
        "*   Country, Agent, and Company are variables in the hotel booking dataset that have missing/null values. Country represents the country of origin for the booking, Agent represents the ID of the travel agency that made the booking, and Company represents the ID of the company/entity that made the booking or responsible for paying the booking. It's important to handle missing/null values to avoid any bad impact on the results of data analysis and modeling.\n",
        "\n",
        "\n"
      ],
      "metadata": {
        "id": "e04EsSDsKe7g"
      }
    },
    {
      "cell_type": "code",
      "source": [
        "# filling null vlues with zero\n",
        "null_columns=['agent','children','company']\n",
        "for col in null_columns:\n",
        "  df[col].fillna(0,inplace=True)\n",
        "\n",
        "# df['agent'].fillna(0, inplace = True)\n",
        "# df['children'].fillna(0, inplace = True)\n",
        "# df['company'].fillna(0, inplace = True)\n"
      ],
      "metadata": {
        "id": "ClW-QjjrVxl4"
      },
      "execution_count": null,
      "outputs": []
    },
    {
      "cell_type": "markdown",
      "source": [
        "\n",
        "\n",
        "*   It is possible that there are situations where customers have not booked hotels through any company or agent. In such cases, the company and agent columns may have null values. To address this, we will replace any null values in these columns with a value of 0.\n",
        "\n",
        "\n"
      ],
      "metadata": {
        "id": "ReQMtMh6VD5b"
      }
    },
    {
      "cell_type": "code",
      "source": [
        "# replacing N/A values by others\n",
        "df['country'].fillna('others',inplace= True)"
      ],
      "metadata": {
        "id": "UY2VKCj6VZU8"
      },
      "execution_count": null,
      "outputs": []
    },
    {
      "cell_type": "markdown",
      "source": [
        "\n",
        "\n",
        "*   While observing the hotel booking data, we found that some of the country values were missing and marked as N/A. We think that this might be because those countries were not included in the dataset. To deal with this issue, we chose to replace the missing values with the word \"others\".\n",
        "\n",
        "\n"
      ],
      "metadata": {
        "id": "XmGhzhfhWMAc"
      }
    },
    {
      "cell_type": "code",
      "source": [
        "# checking the null values again\n",
        "df.isna().sum()"
      ],
      "metadata": {
        "colab": {
          "base_uri": "https://localhost:8080/"
        },
        "id": "WjQ7R_zJXSHu",
        "outputId": "329115fb-6720-4b1b-b794-a2673ff9dd8f"
      },
      "execution_count": null,
      "outputs": [
        {
          "output_type": "execute_result",
          "data": {
            "text/plain": [
              "hotel                             0\n",
              "is_canceled                       0\n",
              "lead_time                         0\n",
              "arrival_date_year                 0\n",
              "arrival_date_month                0\n",
              "arrival_date_week_number          0\n",
              "arrival_date_day_of_month         0\n",
              "stays_in_weekend_nights           0\n",
              "stays_in_week_nights              0\n",
              "adults                            0\n",
              "children                          0\n",
              "babies                            0\n",
              "meal                              0\n",
              "country                           0\n",
              "market_segment                    0\n",
              "distribution_channel              0\n",
              "is_repeated_guest                 0\n",
              "previous_cancellations            0\n",
              "previous_bookings_not_canceled    0\n",
              "reserved_room_type                0\n",
              "assigned_room_type                0\n",
              "booking_changes                   0\n",
              "deposit_type                      0\n",
              "agent                             0\n",
              "company                           0\n",
              "days_in_waiting_list              0\n",
              "customer_type                     0\n",
              "adr                               0\n",
              "required_car_parking_spaces       0\n",
              "total_of_special_requests         0\n",
              "reservation_status                0\n",
              "reservation_status_date           0\n",
              "dtype: int64"
            ]
          },
          "metadata": {},
          "execution_count": 242
        }
      ]
    },
    {
      "cell_type": "code",
      "source": [
        "# We removed 166 rows from the dataset where no hotel bookings were made\n",
        "lenght=len(df[df['adults']+df['children']+df['babies']==0])\n",
        "df.drop(df[df['adults']+df['children']+df['babies']==0].index,inplace=True)"
      ],
      "metadata": {
        "id": "1zQVmyAJZ_8s"
      },
      "execution_count": null,
      "outputs": []
    },
    {
      "cell_type": "markdown",
      "source": [
        "* We found 166 rows in the dataset where the total number of adults, children, and babies was zero. This means that no hotel bookings were made for those guest. To deal with this, we chose to remove these rows from the dataset."
      ],
      "metadata": {
        "id": "Du0oL1mWl6Ts"
      }
    },
    {
      "cell_type": "code",
      "source": [
        "df[['children', 'company','agent']]=df[['children', 'company','agent']].astype('int64')"
      ],
      "metadata": {
        "id": "U5IHM6GJmRs-"
      },
      "execution_count": null,
      "outputs": []
    },
    {
      "cell_type": "markdown",
      "source": [
        "* We want to change the datatype of the 'children', 'company', and 'agent' columns from float to integer because these columns contain values that are whole numbers. Representing them as integers makes more sense than using floating-point numbers, which can be more precise."
      ],
      "metadata": {
        "id": "pme-v_2wncJj"
      }
    },
    {
      "cell_type": "code",
      "source": [
        "# We are converting the data type of the 'reservation_status_date' column to a data_type.\n",
        "df['reservation_status_date']=pd.to_datetime(df['reservation_status_date'],format = '%Y-%m-%d')"
      ],
      "metadata": {
        "id": "w_GWt9KmoFZp"
      },
      "execution_count": null,
      "outputs": []
    },
    {
      "cell_type": "markdown",
      "source": [
        "* converting the 'reservation_status_date' column to a date format can also help to improve the accuracy and efficiency of time-based operations and calculations."
      ],
      "metadata": {
        "id": "n0ZUfvRVs7Qc"
      }
    },
    {
      "cell_type": "code",
      "source": [
        "# adding total staying days column in dataset\n",
        "df['Total_staying_days']=df['stays_in_week_nights']+df['stays_in_weekend_nights']"
      ],
      "metadata": {
        "id": "5J826-8OtDgR"
      },
      "execution_count": null,
      "outputs": []
    },
    {
      "cell_type": "markdown",
      "source": [
        "* This manuplation is done to find how many days a guest satyed in ."
      ],
      "metadata": {
        "id": "saM9ytdyt4ti"
      }
    },
    {
      "cell_type": "code",
      "source": [
        "# adding total number of guests\n",
        "df['Total_guests']=df['adults']+df['children']+df['babies'] "
      ],
      "metadata": {
        "id": "CTrWxycCuJcH"
      },
      "execution_count": null,
      "outputs": []
    },
    {
      "cell_type": "markdown",
      "source": [
        "* This manuplation is done to find how many guests satyed in ."
      ],
      "metadata": {
        "id": "rgJrEEAPuyIt"
      }
    },
    {
      "cell_type": "code",
      "source": [
        "df.columns\n"
      ],
      "metadata": {
        "colab": {
          "base_uri": "https://localhost:8080/"
        },
        "id": "HWsjUWvlV8w5",
        "outputId": "46485887-e78e-41ed-816b-4bbbf9540a40"
      },
      "execution_count": null,
      "outputs": [
        {
          "output_type": "execute_result",
          "data": {
            "text/plain": [
              "Index(['hotel', 'is_canceled', 'lead_time', 'arrival_date_year',\n",
              "       'arrival_date_month', 'arrival_date_week_number',\n",
              "       'arrival_date_day_of_month', 'stays_in_weekend_nights',\n",
              "       'stays_in_week_nights', 'adults', 'children', 'babies', 'meal',\n",
              "       'country', 'market_segment', 'distribution_channel',\n",
              "       'is_repeated_guest', 'previous_cancellations',\n",
              "       'previous_bookings_not_canceled', 'reserved_room_type',\n",
              "       'assigned_room_type', 'booking_changes', 'deposit_type', 'agent',\n",
              "       'company', 'days_in_waiting_list', 'customer_type', 'adr',\n",
              "       'required_car_parking_spaces', 'total_of_special_requests',\n",
              "       'reservation_status', 'reservation_status_date', 'Total_staying_days',\n",
              "       'Total_guests'],\n",
              "      dtype='object')"
            ]
          },
          "metadata": {},
          "execution_count": 248
        }
      ]
    },
    {
      "cell_type": "markdown",
      "source": [
        "### What all manipulations have you done and insights you found?"
      ],
      "metadata": {
        "id": "MSa1f5Uengrz"
      }
    },
    {
      "cell_type": "markdown",
      "source": [
        "\n",
        "**Data Manuplation Done:**\n",
        "\n",
        "In this data manipulations for a hotel booking dataset include cleaning the data, handling missing values finding duplicate vlues.\n",
        "\n",
        "*The following data manipulations are done in this data:*\n",
        "\n",
        "1.filling/replacing null values with 0\n",
        "\n",
        "2.Replacing NA values with 'others\n",
        "\n",
        "3.Removed 166 rows from the dataset where the sum of the number of adults, children, and babies is zero. \n",
        "\n",
        "4.Converted datatype of columns 'children', 'company' and 'agent' from float to int.\n",
        "\n",
        "5.Changed datatype of column 'reservation_status_date' to date time format\n",
        "\n",
        "6.Total staying days in hotels is added to dataset\n",
        "\n",
        "7.Added total number of people in columns.\n",
        "\n",
        "..............................................................................\n",
        "\n",
        "**Insights according me :** \n",
        "add letter here\n"
      ],
      "metadata": {
        "id": "LbyXE7I1olp8"
      }
    },
    {
      "cell_type": "markdown",
      "source": [
        "## ***Data Vizualization, Storytelling & Experimenting with charts : Understand the relationships between variables :-***"
      ],
      "metadata": {
        "id": "GF8Ens_Soomf"
      }
    },
    {
      "cell_type": "markdown",
      "source": [
        "### <<>>  **Before analyzing the data for insights, let's first explore different ways of visualizing the data to gather more information**"
      ],
      "metadata": {
        "id": "Lwc1jDcGVkBH"
      }
    },
    {
      "cell_type": "markdown",
      "source": [
        "### <> **Types Hotels in dataset**"
      ],
      "metadata": {
        "id": "3FR6orSGo6-G"
      }
    },
    {
      "cell_type": "code",
      "source": [
        "# let's check how many hotels belongs which catagery\n",
        "hotel_types=df['hotel'].value_counts()\n",
        "hotel_types"
      ],
      "metadata": {
        "id": "cekrbTtYVjkp",
        "colab": {
          "base_uri": "https://localhost:8080/"
        },
        "outputId": "bf281070-cde6-49f4-f6f7-b4950113fdd5"
      },
      "execution_count": null,
      "outputs": [
        {
          "output_type": "execute_result",
          "data": {
            "text/plain": [
              "City Hotel      53274\n",
              "Resort Hotel    33956\n",
              "Name: hotel, dtype: int64"
            ]
          },
          "metadata": {},
          "execution_count": 249
        }
      ]
    },
    {
      "cell_type": "code",
      "source": [
        "#  Vizualizing the hotel_types data \n",
        "plt.figure(figsize=(10, 7))\n",
        "\n",
        "hotel_types.plot(kind='pie',explode = (0, 0.1),shadow=True, startangle=90,colors = ['brown','Green'],autopct='%1.0f%%',fontsize=10)\n",
        "\n",
        "plt.title('Types Of hotels in data',fontsize=16)\n",
        "\n",
        "plt.ylabel('')\n",
        "plt.xlabel('')\n",
        "plt.show()\n"
      ],
      "metadata": {
        "colab": {
          "base_uri": "https://localhost:8080/",
          "height": 429
        },
        "id": "G-ltmtK_p6Oa",
        "outputId": "8ac4b80f-9616-4bbe-a73b-d0a500159fe7"
      },
      "execution_count": null,
      "outputs": [
        {
          "output_type": "display_data",
          "data": {
            "text/plain": [
              "<Figure size 720x504 with 1 Axes>"
            ],
            "image/png": "[encoded data removed]"
          },
          "metadata": {}
        }
      ]
    },
    {
      "cell_type": "markdown",
      "source": [
        "* In this EDA project, it is found that out of all the hotel bookings in dataset, 39% of the guests preferred resort hotels and 61% preferred city hotels. This means that there were more guests who preferred city hotels than resort hotels in your dataset.\n",
        "\n",
        "\n",
        "* From above percentage of guests who prefer each type of hotel can be useful in understanding the preferences of your customers and can help hotels for their offerings to better meet the needs and expectations of their guests."
      ],
      "metadata": {
        "id": "KGiRLCQU-5qP"
      }
    },
    {
      "cell_type": "markdown",
      "source": [
        "### <> **Guests by Age Category**"
      ],
      "metadata": {
        "id": "1tSahZypJ2aB"
      }
    },
    {
      "cell_type": "code",
      "source": [
        "\n",
        "# Calculate the total number of guests in each category\n",
        "plt.figure(figsize=(10, 7))\n",
        "total_adults = df['adults'].sum()\n",
        "total_children = df['children'].sum()\n",
        "total_babies = df['babies'].sum()\n",
        "\n",
        "# Create a list of labels and values for the pie chart\n",
        "labels = ['Adults', 'Children', 'Babies']\n",
        "values = [total_adults, total_children, total_babies]\n",
        "\n",
        "# Create a pie chart and display it\n",
        "\n",
        "plt.pie(values, labels=labels, autopct='%1.1f%%', labeldistance=1.2,colors = ['pink','yellow','red'])\n",
        "plt.title('Guests by Age Category')\n",
        "plt.show()\n"
      ],
      "metadata": {
        "colab": {
          "base_uri": "https://localhost:8080/",
          "height": 427
        },
        "id": "LuNHt7oKNBaZ",
        "outputId": "8af32a94-76e5-4431-dcb1-7684903ba974"
      },
      "execution_count": null,
      "outputs": [
        {
          "output_type": "display_data",
          "data": {
            "text/plain": [
              "<Figure size 720x504 with 1 Axes>"
            ],
            "image/png": "[encoded data removed]"
          },
          "metadata": {}
        }
      ]
    },
    {
      "cell_type": "markdown",
      "source": [
        "* In the pie chart shows that the majority of guests **(92.6%) were adults**, while a very small percentage **(0.5%) were babies** and the remaining **6.8% were children**. This means that most of the guests who booked the hotel were adults, with only a very small number of babies and a relatively smaller number of children."
      ],
      "metadata": {
        "id": "JsWeNVlvTiw2"
      }
    },
    {
      "cell_type": "markdown",
      "source": [
        "### <> **Hotel Waiting Period**\n"
      ],
      "metadata": {
        "id": "VaCGBEcyaoXe"
      }
    },
    {
      "cell_type": "code",
      "source": [
        "# Calculate the average waiting period for each hotel\n",
        "plt.figure(figsize=(7, 7))\n",
        "avg_waiting = df.groupby('hotel')['days_in_waiting_list'].mean()\n",
        "\n",
        "# Create a bar chart of the average waiting period for each hotel\n",
        "plt.bar(avg_waiting.index, avg_waiting.values,color = ['brown','Green'])\n",
        "plt.title('Average Waiting Period by Hotel')\n",
        "plt.xlabel('Hotel')\n",
        "plt.ylabel('Average Waiting Period (Days)')\n",
        "plt.show()"
      ],
      "metadata": {
        "colab": {
          "base_uri": "https://localhost:8080/",
          "height": 464
        },
        "id": "yq_Gy_2SYuf1",
        "outputId": "d6b0f9af-973d-46bd-e28c-bf9acb5f694c"
      },
      "execution_count": null,
      "outputs": [
        {
          "output_type": "display_data",
          "data": {
            "text/plain": [
              "<Figure size 504x504 with 1 Axes>"
            ],
            "image/png": "[encoded data removed]"
          },
          "metadata": {}
        }
      ]
    },
    {
      "cell_type": "markdown",
      "source": [
        "* The graph shows how long people had to wait before they were confirm their booking in two different hotels. The graph tells us that people who book the city hotel had to wait more longer than those who book the resort hotel. This could be because the city hotel is more popular. Hotels can try to reduce the waiting period to make their guests happier and make more money. The graph helps hotels plan better for busy times so they can be ready for lots of guests."
      ],
      "metadata": {
        "id": "4YJVmlqzZznX"
      }
    },
    {
      "cell_type": "markdown",
      "source": [
        "### <> **Distribution of Meal Types**"
      ],
      "metadata": {
        "id": "Kak6ZKxjjNX-"
      }
    },
    {
      "cell_type": "code",
      "source": [
        "# group the data by meal type\n",
        "meal_data = df.groupby('meal')['hotel'].count()\n",
        "\n",
        "# create a pie chart\n",
        "plt.figure(figsize=(10, 7))\n",
        "\n",
        "meal_data.plot(kind='pie',colors=['green', 'black', 'blue', 'yellow', 'red'], autopct='%1.0f%%', fontsize=16,explode = (0.1, 0.1,0.1,0.1,0.1))\n",
        "\n",
        "plt.legend(labels=['Bed & Breakfast', 'Full Board','Half Board','SC:Self catering or Room only','Undefined'], loc=\"best\")\n",
        "\n",
        "plt.title('Types Of hotels in data', fontsize=20)\n",
        "\n",
        "plt.ylabel('')\n",
        "plt.xlabel('')\n",
        "plt.show()\n"
      ],
      "metadata": {
        "colab": {
          "base_uri": "https://localhost:8080/",
          "height": 432
        },
        "id": "ggcvK9tAVhS1",
        "outputId": "3008d42d-05e1-488e-c00e-4a2e88a6ddd2"
      },
      "execution_count": null,
      "outputs": [
        {
          "output_type": "display_data",
          "data": {
            "text/plain": [
              "<Figure size 720x504 with 1 Axes>"
            ],
            "image/png": "[encoded data removed]"
          },
          "metadata": {}
        }
      ]
    },
    {
      "cell_type": "markdown",
      "source": [
        "* Most of the hotel bookings in the data have Bed & Breakfast (78%), then comes Half Board (10%) and Self Catering or Room Only (11%). Only a tiny bit, like 1%, of bookings don't have any meal package. Also, no bookings have Full Board.\n",
        "\n",
        " These insights can help hotels and travel companies know more about what their customers want and need. This can help them make better advertising plans and booking choices"
      ],
      "metadata": {
        "id": "q8Gy-9mZVgtu"
      }
    },
    {
      "cell_type": "markdown",
      "source": [
        "\n",
        "### <> **Types of Hotel Bookings by Customers**"
      ],
      "metadata": {
        "id": "rfx5kU2ZqIsv"
      }
    },
    {
      "cell_type": "code",
      "source": [
        "# group the data by customer type\n",
        "customer_data = df.groupby('customer_type')['hotel'].count()\n",
        "\n",
        "# create a horizontal bar chart\n",
        "plt.figure(figsize=(8, 6))\n",
        "\n",
        "customer_data.plot(kind='barh', color=['orange', 'red', 'lightgreen', 'lightblue'], edgecolor='black')\n",
        "\n",
        "plt.title('Customer Types in Hotel Bookings Data', fontsize=16)\n",
        "plt.xlabel('Count', fontsize=12)\n",
        "plt.ylabel('Customer Type', fontsize=12)\n",
        "\n",
        "plt.show()\n"
      ],
      "metadata": {
        "colab": {
          "base_uri": "https://localhost:8080/",
          "height": 412
        },
        "id": "942XhrE2mXCX",
        "outputId": "b164c185-6642-42c3-a0ce-949d90a91c8c"
      },
      "execution_count": null,
      "outputs": [
        {
          "output_type": "display_data",
          "data": {
            "text/plain": [
              "<Figure size 576x432 with 1 Axes>"
            ],
            "image/png": "[encoded data removed]"
          },
          "metadata": {}
        }
      ]
    },
    {
      "cell_type": "markdown",
      "source": [
        "* Graph show that most bookings are made by Transient customers, followed by Transient-Party customers. Contract and Group customers make fewer bookings. Transient customers book for a short time and have flexible schedules. Transient-Party customers are similar but book in a group. Contract customers have special rates, and Group customers are large groups. These findings can help hotels understand their customers and create better marketing strategies."
      ],
      "metadata": {
        "id": "7AyvLhI5o63_"
      }
    },
    {
      "cell_type": "markdown",
      "source": [
        "\n",
        "### <> **Deposit Types for Hotel Bookings**\n"
      ],
      "metadata": {
        "id": "FfKndtLJytAB"
      }
    },
    {
      "cell_type": "code",
      "source": [
        "deposit_data = df['deposit_type'].value_counts()\n",
        "\n",
        "plt.figure(figsize=(10,7))\n",
        "deposit_data.plot(kind='bar', color=['pink', 'orange', 'red'])\n",
        "plt.title('Distribution of Deposit Types', fontsize=16)\n",
        "plt.xlabel('Deposit Types', fontsize=14)\n",
        "plt.ylabel('Number of Bookings', fontsize=14)\n",
        "plt.xticks(rotation=0)\n",
        "plt.show()"
      ],
      "metadata": {
        "colab": {
          "base_uri": "https://localhost:8080/",
          "height": 467
        },
        "id": "UyPnSwcsmW2I",
        "outputId": "2c865f1b-91d2-4aae-bcf9-6903e25e5dfa"
      },
      "execution_count": null,
      "outputs": [
        {
          "output_type": "display_data",
          "data": {
            "text/plain": [
              "<Figure size 720x504 with 1 Axes>"
            ],
            "image/png": "[encoded data removed]"
          },
          "metadata": {}
        }
      ]
    },
    {
      "cell_type": "markdown",
      "source": [
        "* Most hotel bookings do not require a deposit, while bit of bookings have non-refundable deposits and very less have refundable deposits. This suggests that many customers prefer to avoid paying a deposit. However, non-refundable deposits are still popular among some customers, and refundable deposits are less common. This information can help hotels to better understand their customers and adjust their booking policies to suit their needs."
      ],
      "metadata": {
        "id": "N3_xJl8qxukw"
      }
    },
    {
      "cell_type": "code",
      "source": [
        "# groupby arrival_date_month and taking the hotel count\n",
        "bookings_by_months_df=df.groupby(['arrival_date_month'])['hotel'].count().reset_index().rename(columns={'hotel':\"Counts\"})\n",
        "\n",
        "# Create list of months in order\n",
        "months = ['January', 'February', 'March', 'April', 'May', 'June', 'July', 'August', 'September', 'October', 'November', 'December']\n",
        "\n",
        "# creating df which will map the order of above months list without changing its values.\n",
        "bookings_by_months_df['arrival_date_month']=pd.Categorical(bookings_by_months_df['arrival_date_month'],categories=months,ordered=True)\n",
        "\n",
        "# sorting by arrival_date_month\n",
        "bookings_by_months_df=bookings_by_months_df.sort_values('arrival_date_month')"
      ],
      "metadata": {
        "id": "usw3koOm5e6I"
      },
      "execution_count": null,
      "outputs": []
    },
    {
      "cell_type": "markdown",
      "source": [
        "\n",
        "### <> **Monthwise Number of booking**\n"
      ],
      "metadata": {
        "id": "ty11SiLw7zuE"
      }
    },
    {
      "cell_type": "code",
      "source": [
        "plt.figure(figsize=(20,8))\n",
        "\n",
        "sns.lineplot(x=bookings_by_months_df['arrival_date_month'],y=bookings_by_months_df['Counts'])\n",
        "plt.title('Number of bookings across each month')\n",
        "plt.xlabel('Month')\n",
        "plt.ylabel('Number of bookings');"
      ],
      "metadata": {
        "colab": {
          "base_uri": "https://localhost:8080/",
          "height": 518
        },
        "id": "NRixYJBU5wPv",
        "outputId": "cbcace81-1083-48d6-e1f5-fc93682609a9"
      },
      "execution_count": null,
      "outputs": [
        {
          "output_type": "display_data",
          "data": {
            "text/plain": [
              "<Figure size 1440x576 with 1 Axes>"
            ],
            "image/png": "[encoded data removed]"
          },
          "metadata": {}
        }
      ]
    },
    {
      "cell_type": "markdown",
      "source": [
        "* This line graph shows the number of hotel bookings across each month. From January to May, the number of bookings steadily increases, and then slightly drops in June. In July, the number of bookings increases again, and August has the highest number of bookings out of all the months. However, there is a drop in bookings in September and only a small increase in October. Bookings in November and December are significantly lower than in the other months.\n",
        "\n",
        " These insights can be useful for hotels and travel companies to understand the seasonal trends and patterns in hotel bookings, and can inform the development of targeted marketing and pricing strategies to attract more customers during periods of low demand."
      ],
      "metadata": {
        "id": "TucYTPUM52F5"
      }
    },
    {
      "cell_type": "markdown",
      "source": [
        "### <> **Yearwise Number of booking**"
      ],
      "metadata": {
        "id": "OzD7kXwz_Rpy"
      }
    },
    {
      "cell_type": "code",
      "source": [
        "# Convert the arrival_date_year column to datetime\n",
        "df['arrival_date_year'] = pd.to_datetime(df['arrival_date_year'], format='%Y')"
      ],
      "metadata": {
        "id": "eaGRe8LJaAq3"
      },
      "execution_count": null,
      "outputs": []
    },
    {
      "cell_type": "code",
      "source": [
        "\n",
        "\n",
        "# Create a new dataframe with year-wise booking counts\n",
        "yearly_bookings = df.groupby(df.arrival_date_year.dt.year).size().reset_index(name='count')\n",
        "\n",
        "# Create the line plot using seaborn\n",
        "sns.set(style=\"whitegrid\")\n",
        "ax = sns.lineplot(x=\"arrival_date_year\", y=\"count\", data=yearly_bookings)\n",
        "\n",
        "# Set the title and axes labels\n",
        "ax.set_title(\"Year-wise Bookings\")\n",
        "ax.set_xlabel(\"Year\")\n",
        "ax.set_ylabel(\"Number of Bookings\")"
      ],
      "metadata": {
        "colab": {
          "base_uri": "https://localhost:8080/",
          "height": 481
        },
        "id": "TeJecS3D8dQs",
        "outputId": "f296d2d3-541d-4839-c7fe-2d9295e2b5ed"
      },
      "execution_count": null,
      "outputs": [
        {
          "output_type": "execute_result",
          "data": {
            "text/plain": [
              "Text(0, 0.5, 'Number of Bookings')"
            ]
          },
          "metadata": {},
          "execution_count": 259
        },
        {
          "output_type": "display_data",
          "data": {
            "text/plain": [
              "<Figure size 720x504 with 1 Axes>"
            ],
            "image/png": "[encoded data removed]"
          },
          "metadata": {}
        }
      ]
    },
    {
      "cell_type": "markdown",
      "source": [
        "* In 2016, the highest number of bookings were made, followed by a decrease in bookings in the following years, may be because of there may have been changes in the market or industry during this time that affected booking trends.This information can be useful for hotels and travel companies to better understand booking trends and develop more effective marketing strategies."
      ],
      "metadata": {
        "id": "neleK_u9_K56"
      }
    },
    {
      "cell_type": "markdown",
      "source": [
        "### <> **Parking Spaces in Hotel Bookings**"
      ],
      "metadata": {
        "id": "nT3PfSJlnKXg"
      }
    },
    {
      "cell_type": "code",
      "source": [
        "# custom color palette\n",
        "colors = ['#2ca02c', '#d62728']\n",
        "\n",
        "# Create a countplot of parking_space\n",
        "sns.countplot(x='required_car_parking_spaces', data=df, palette=colors)\n",
        "\n",
        "# Set labels and title\n",
        "plt.xlabel('Parking Space')\n",
        "plt.ylabel('Number of Bookings')\n",
        "plt.title('Parking Spaces in Hotel Bookings')\n",
        "\n",
        "# Display the plot\n",
        "plt.show()"
      ],
      "metadata": {
        "colab": {
          "base_uri": "https://localhost:8080/",
          "height": 464
        },
        "id": "bQYN6kFjgLDK",
        "outputId": "a16a390d-7a7f-472a-a450-9c95cd26dec7"
      },
      "execution_count": null,
      "outputs": [
        {
          "output_type": "display_data",
          "data": {
            "text/plain": [
              "<Figure size 720x504 with 1 Axes>"
            ],
            "image/png": "[encoded data removed]"
          },
          "metadata": {}
        }
      ]
    },
    {
      "cell_type": "markdown",
      "source": [
        "* The chart shows that majority of the bookings in the dataset do not have a parking space, which is over 110,000 bookings. This shows that parking spaces may not be a top priority for hotel guests or hotels are not providing enough parking spaces to fulfill the demand,but still there is a significant number of bookings, that have parking spaces. This suggests that hotels may still need to offer this amenity to attract certain types of guests."
      ],
      "metadata": {
        "id": "OB8-GhrWlVgw"
      }
    },
    {
      "cell_type": "markdown",
      "source": [
        "### <<>>  **Analyzing the data for insights**"
      ],
      "metadata": {
        "id": "ebnR4A7Q0WZ_"
      }
    },
    {
      "cell_type": "markdown",
      "source": [
        "### <> **What is the average length of stay for guests in different types of hotels?**"
      ],
      "metadata": {
        "id": "0wOQAZs5pc--"
      }
    },
    {
      "cell_type": "code",
      "source": [
        "# visualization code\n",
        "\n",
        "# Create a bar plot \n",
        "sns.barplot(x='hotel', y='stays_in_week_nights', data=df, estimator=np.mean)\n",
        "\n",
        "# Set labels and title\n",
        "plt.xlabel('Hotel Type')\n",
        "plt.ylabel('Average Length of Stay (in nights)')\n",
        "plt.title('Average Length of Stay by Hotel Type')\n",
        "\n",
        "# Display the plot\n",
        "plt.show()\n"
      ],
      "metadata": {
        "id": "7v_ESjsspbW7",
        "colab": {
          "base_uri": "https://localhost:8080/",
          "height": 464
        },
        "outputId": "fa94d6fa-9af4-45be-df86-ca412ec80e12"
      },
      "execution_count": null,
      "outputs": [
        {
          "output_type": "display_data",
          "data": {
            "text/plain": [
              "<Figure size 720x504 with 1 Axes>"
            ],
            "image/png": "[encoded data removed]"
          },
          "metadata": {}
        }
      ]
    },
    {
      "cell_type": "markdown",
      "source": [
        "##### **1. Why did i pick this specific chart?**"
      ],
      "metadata": {
        "id": "K5QZ13OEpz2H"
      }
    },
    {
      "cell_type": "markdown",
      "source": [
        " A bar chart is an easy-to-read and informative graph that allows us to quickly see the number of hotels in each category. It provides a clear visual representation of the distribution of the data and makes it easy to compare the different types of hotels. "
      ],
      "metadata": {
        "id": "XESiWehPqBRc"
      }
    },
    {
      "cell_type": "markdown",
      "source": [
        "##### **2. What is/are the insight(s) found from the chart?**"
      ],
      "metadata": {
        "id": "lQ7QKXXCp7Bj"
      }
    },
    {
      "cell_type": "markdown",
      "source": [
        "* Looking at the graph, we can see that Resort hotels have a longer average length of stay compared to City hotels. This could be due to the fact that Resort hotels are often located in vacation destinations where people go for longer periods of time, while City hotels are more frequently used for business trips or shorter stays.\n",
        "\n",
        " It's important for hotels to understand these differences and market their properties and attract the right types of guests,like for example resorts could offer longer-stay packages or activities to cso that guests will extended vacation, while city hotels could focus on providing better services for guests who are often on the go.\n",
        "\n",
        " The guests who are looking for longer stays resort shuld add some extra  amenities such as spa, golf course, or beach activities."
      ],
      "metadata": {
        "id": "C_j1G7yiqdRP"
      }
    },
    {
      "cell_type": "markdown",
      "source": [
        "##### **3. Will the gained insights help creating a positive business impact?Are there any insights that lead to negative growth? Justify with specific reason.**"
      ],
      "metadata": {
        "id": "448CDAPjqfQr"
      }
    },
    {
      "cell_type": "markdown",
      "source": [
        "* There are no insights that directly indicate negative growth. It's essential to keep in mind that the insights obtained from this graph are just a part of big data so  and they should look along with other data and factors that affect the business."
      ],
      "metadata": {
        "id": "3cspy4FjqxJW"
      }
    },
    {
      "cell_type": "markdown",
      "source": [
        "### <> **Are there any  patterns in cancellations ?**"
      ],
      "metadata": {
        "id": "KSlN3yHqYklG"
      }
    },
    {
      "cell_type": "code",
      "source": [
        "# visualization code\n",
        "\n",
        "# Create a new dataframe with cancelled bookings only\n",
        "cancelled_df = df[df['is_canceled'] == 1]\n",
        "\n",
        "cancelled_df = cancelled_df.loc[:, ['reservation_status', 'reservation_status_date']]\n",
        "cancelled_df['reservation_status_date'] = pd.to_datetime(cancelled_df['reservation_status_date'])\n",
        "cancelled_df['month'] = pd.DatetimeIndex(cancelled_df['reservation_status_date']).month\n",
        "\n",
        "\n",
        "# Create a 'month' column using the reservation_status_date column\n",
        "cancelled_df['month'] = pd.DatetimeIndex(cancelled_df['reservation_status_date']).month\n",
        "\n",
        "# Create a countplot of cancellations by month\n",
        "plt.figure(figsize=(12,6))\n",
        "sns.countplot(x='month', data=cancelled_df)\n",
        "\n",
        "# Set labels and title\n",
        "plt.xlabel('Month')\n",
        "plt.ylabel('Number of Cancellations')\n",
        "plt.title('Cancellations by Month')\n",
        "\n",
        "# Display the plot\n",
        "plt.show()\n"
      ],
      "metadata": {
        "id": "R4YgtaqtYklH",
        "colab": {
          "base_uri": "https://localhost:8080/",
          "height": 410
        },
        "outputId": "28fe3d67-5a14-409f-b422-caad1f8dc4b5"
      },
      "execution_count": null,
      "outputs": [
        {
          "output_type": "display_data",
          "data": {
            "text/plain": [
              "<Figure size 864x432 with 1 Axes>"
            ],
            "image/png": "[encoded data removed]"
          },
          "metadata": {}
        }
      ]
    },
    {
      "cell_type": "markdown",
      "source": [
        "##### **1. Why did i pick the specific chart?**"
      ],
      "metadata": {
        "id": "t6dVpIINYklI"
      }
    },
    {
      "cell_type": "markdown",
      "source": [
        "* I choose this graph to visualize the seasonal patterns in cancellations  because it is a simple and effective way to show the frequency of cancellations in each month. In this graph we can esaily see if there are any months with a higher or lower number of cancellations compared to the rest of the year.  "
      ],
      "metadata": {
        "id": "5aaW0BYyYklI"
      }
    },
    {
      "cell_type": "markdown",
      "source": [
        "##### **2. What is/are the insight(s) found from the chart?**"
      ],
      "metadata": {
        "id": "ijmpgYnKYklI"
      }
    },
    {
      "cell_type": "markdown",
      "source": [
        "* From the bar chart, we can see that there are seasonal patterns in cancellations. The months of January, February, and December have the highest number of cancellations, while the  months June, July, and August have the lowest number of cancellations.\n",
        "\n",
        " from graph we can see that there are some factors that are affecting ancellations during different times of the year. like in winter month the cancellations are high may be beacuse weather condition or holiday plans while in summer we see fewer cancellations due to more travel plans, vacation time  \n",
        "\n",
        " Understanding the patterns in cancellations can help hotels plan their staffing and inventory levels better , considering the up's and down's  in cancellations manage their resources and provide better customer service which will leads to customer satisfaction so that they can make more profit.\n"
      ],
      "metadata": {
        "id": "PSx9atu2YklI"
      }
    },
    {
      "cell_type": "markdown",
      "source": [
        "##### **3. Will the gained insights help creating a positive business impact?Are there any insights that lead to negative growth? Justify with specific reason.**"
      ],
      "metadata": {
        "id": "-JiQyfWJYklI"
      }
    },
    {
      "cell_type": "markdown",
      "source": [
        "* The insights gained from the graph can help hotels to better plan their resources and staffing throughout the year.However, failure to account for these patterns could lead to over or under-staffing, as well as over or under-stocking inventory, which could result in negative business impacts such as reduced customer satisfaction and revenue loss. Therefore, it is important for hotels to consider these insights in their overall business strategy."
      ],
      "metadata": {
        "id": "BcBbebzrYklV"
      }
    },
    {
      "cell_type": "markdown",
      "source": [
        "### <> **How do booking patterns vary for business travelers versus leisure travelers?**"
      ],
      "metadata": {
        "id": "EM7whBJCYoAo"
      }
    },
    {
      "cell_type": "code",
      "source": [
        "# visualization code\n",
        "\n",
        "# create the barplot\n",
        "ax = sns.barplot(x='hotel', y='adr', hue='market_segment', data=df)\n",
        "\n",
        "# rotate the x-axis labels\n",
        "ax.set_xticklabels(ax.get_xticklabels(), rotation=45, ha='right')\n",
        "\n",
        "plt.legend(loc='lower center',fontsize=8)\n",
        "\n",
        "\n",
        "# set labels and title\n",
        "plt.xlabel('Hotel Type')\n",
        "plt.ylabel('Price per Day')\n",
        "plt.title('Booking Patterns for Business vs. Leisure Travelers')\n",
        "\n",
        "# display the plot\n",
        "plt.show()\n"
      ],
      "metadata": {
        "colab": {
          "base_uri": "https://localhost:8080/",
          "height": 509
        },
        "id": "50NOmtZGXhOB",
        "outputId": "452c94cd-bbbe-4d48-f28a-74fa34cc1783"
      },
      "execution_count": null,
      "outputs": [
        {
          "output_type": "display_data",
          "data": {
            "text/plain": [
              "<Figure size 720x504 with 1 Axes>"
            ],
            "image/png": "[encoded data removed]"
          },
          "metadata": {}
        }
      ]
    },
    {
      "cell_type": "markdown",
      "source": [
        "##### **1. Why did i pick the specific chart?**"
      ],
      "metadata": {
        "id": "fge-S5ZAYoAp"
      }
    },
    {
      "cell_type": "markdown",
      "source": [
        "* The stacked bar chart shows how the price per day (ADR) and market segment (business vs. leisure) are related for different types of hotels. The bars in the chart represent the total price per day for each hotel type, and they are split into different colored sections that represent the proportion of business and leisure travelers.\n",
        "\n",
        " This chart makes it easy to compare the total price per day for different hotel types and see how many business and leisure travelers are staying in each type of hotel. It can help businesses identify patterns and trends in customer behavior and use that information to adjust their pricing and marketing strategies."
      ],
      "metadata": {
        "id": "5dBItgRVYoAp"
      }
    },
    {
      "cell_type": "markdown",
      "source": [
        "##### **2. What is/are the insight(s) found from the chart?**"
      ],
      "metadata": {
        "id": "85gYPyotYoAp"
      }
    },
    {
      "cell_type": "markdown",
      "source": [
        "* When they see the chart, hotels can learn new things about people who stay at their hotel. They can use that information to make better choices about how to make money. For example, if they see that more people like to stay at their resort hotel, they can make the price higher. If they see that people like to come to their city hotel for business, they can make advertisements that tell people about the good things that are close to their hotel.\n",
        "\n",
        " The chart can help hotels know what people like and how to make more money. It is very important for hotels to learn what people like so that they can do things that make their guests happy."
      ],
      "metadata": {
        "id": "4jstXR6OYoAp"
      }
    },
    {
      "cell_type": "markdown",
      "source": [
        "##### **3. Will the gained insights help creating a positive business impact?Are there any insights that lead to negative growth? Justify with specific reason.**"
      ],
      "metadata": {
        "id": "RoGjAbkUYoAp"
      }
    },
    {
      "cell_type": "markdown",
      "source": [
        "* The insights gained from the chart can have a positive business impact for hotels by helping them optimize pricing and marketing strategies to attract more customers and increase revenue. However, if the insights are not addressed, they could lead to negative growth, such as high cancellations from leisure travelers, which could result in a decline in revenue."
      ],
      "metadata": {
        "id": "zfJ8IqMcYoAp"
      }
    },
    {
      "cell_type": "markdown",
      "source": [
        "\n",
        "### <> **What are the most popular room types, and how does this vary between hotel types?**"
      ],
      "metadata": {
        "id": "4Of9eVA-YrdM"
      }
    },
    {
      "cell_type": "code",
      "source": [
        "# visualization code\n",
        "\n",
        "# Group by room type and count the bookings\n",
        "room_counts = df['reserved_room_type'].value_counts()\n",
        "\n",
        "# Sort the counts in descending order and take the top 10 room types\n",
        "top_rooms = room_counts.sort_values(ascending=False)[:10]\n",
        "\n",
        "# Create a horizontal bar chart\n",
        "plt.barh(top_rooms.index, top_rooms.values)\n",
        "plt.title('Top 10 Most Popular Room Types')\n",
        "plt.xlabel('Number of Bookings')\n",
        "plt.ylabel('Room Type')\n",
        "plt.show()\n"
      ],
      "metadata": {
        "colab": {
          "base_uri": "https://localhost:8080/",
          "height": 464
        },
        "id": "U2HgEWOo3cmh",
        "outputId": "4fb027a4-3b1a-4381-bbb6-64e0b2b4101c"
      },
      "execution_count": null,
      "outputs": [
        {
          "output_type": "display_data",
          "data": {
            "text/plain": [
              "<Figure size 720x504 with 1 Axes>"
            ],
            "image/png": "[encoded data removed]"
          },
          "metadata": {}
        }
      ]
    },
    {
      "cell_type": "markdown",
      "source": [
        "##### **1. Why did i pick the specific chart?**"
      ],
      "metadata": {
        "id": "iky9q4vBYrdO"
      }
    },
    {
      "cell_type": "markdown",
      "source": [
        "* Bar chart good choice for question because it can show frequency or count of each room type clear, horizontal way can show long labels without overlap or cut, and it's easy to compare which room type most popular. Horizontal bar chart extra good for this question because room types have long names that could be hard to read on vertical chart. With horizontal chart, can read full name and see booking amount easily. So, separate charts for city and resort hotels good idea too because can find out what room types are popular for each type of hotel and compare how they're different."
      ],
      "metadata": {
        "id": "aJRCwT6DYrdO"
      }
    },
    {
      "cell_type": "markdown",
      "source": [
        "##### **2. What is/are the insight(s) found from the chart?**"
      ],
      "metadata": {
        "id": "F6T5p64dYrdO"
      }
    },
    {
      "cell_type": "markdown",
      "source": [
        "* Chart show room types for city and resort hotels. We can see that standard double room most popular for both types of hotels. City hotels have more executive rooms and suites, while resort hotels have more family rooms and holiday apartments. Deluxe rooms not so popular for both hotels. City hotels have more room type categories than resort hotels. This info help hotel managers and marketers know which room types people book more and target marketing and promotions better."
      ],
      "metadata": {
        "id": "Xx8WAJvtYrdO"
      }
    },
    {
      "cell_type": "markdown",
      "source": [
        "##### **3. Will the gained insights help creating a positive business impact?Are there any insights that lead to negative growth? Justify with specific reason.**"
      ],
      "metadata": {
        "id": "y-Ehk30pYrdP"
      }
    },
    {
      "cell_type": "markdown",
      "source": [
        "* Looking at room types can help hotels make more money by knowing which rooms people book more. If lots of people book expensive rooms, hotels can focus on that. But if people only book cheap rooms, hotels need to be careful to not lose money. Knowing which rooms people book helps hotels do better business."
      ],
      "metadata": {
        "id": "jLNxxz7MYrdP"
      }
    },
    {
      "cell_type": "markdown",
      "source": [
        "\n",
        "### <> **What is the distribution of special requests and how does it vary across booking types or customer segments?**"
      ],
      "metadata": {
        "id": "bamQiAODYuh1"
      }
    },
    {
      "cell_type": "code",
      "source": [
        "# visualization code\n",
        "\n",
        "# Create a histogram to visualize the distribution of the total_of_special_requests variable\n",
        "plt.hist(df['total_of_special_requests'], bins=10, color='green')\n",
        "plt.title('Distribution of Total Special Requests')\n",
        "plt.xlabel('Number of Special Requests')\n",
        "plt.ylabel('Frequency')\n",
        "plt.show()\n"
      ],
      "metadata": {
        "colab": {
          "base_uri": "https://localhost:8080/",
          "height": 464
        },
        "id": "Uar6wufi7F7w",
        "outputId": "927de1a7-fd0e-4da3-b3db-af61bc77e131"
      },
      "execution_count": null,
      "outputs": [
        {
          "output_type": "display_data",
          "data": {
            "text/plain": [
              "<Figure size 720x504 with 1 Axes>"
            ],
            "image/png": "[encoded data removed]"
          },
          "metadata": {}
        }
      ]
    },
    {
      "cell_type": "markdown",
      "source": [
        "##### **1. Why did i pick the specific chart?**"
      ],
      "metadata": {
        "id": "QHF8YVU7Yuh3"
      }
    },
    {
      "cell_type": "markdown",
      "source": [
        "* The x-axis is for values and y-axis shows how many bookings fall within that value range. Using histogram, you can quickly see patterns or trends in the data, like if there are values that are common or if the data is skewed or normal. "
      ],
      "metadata": {
        "id": "dcxuIMRPYuh3"
      }
    },
    {
      "cell_type": "markdown",
      "source": [
        "##### **2. What is/are the insight(s) found from the chart?**"
      ],
      "metadata": {
        "id": "GwzvFGzlYuh3"
      }
    },
    {
      "cell_type": "markdown",
      "source": [
        "* The insight from the histogram can help hotel managers in many ways. If most guests do not have special requests, the hotel can spend resources on things that are more important to the guests, like making the rooms clean or adding more amenities. But, if a few guests do have special requests, the hotel should be prepared to take care of them quickly and efficiently. This can help ensure guest satisfaction and lead to positive reviews and repeat business.\n",
        "\n",
        "\n",
        "\n",
        "\n",
        "\n"
      ],
      "metadata": {
        "id": "uyqkiB8YYuh3"
      }
    },
    {
      "cell_type": "markdown",
      "source": [
        "##### **3. Will the gained insights help creating a positive business impact?Are there any insights that lead to negative growth? Justify with specific reason.**"
      ],
      "metadata": {
        "id": "qYpmQ266Yuh3"
      }
    },
    {
      "cell_type": "markdown",
      "source": [
        "* Insights from the analysis can help make the hotel better and attract more guests. But some insights might not be good, like guests canceling their bookings because of bad amenities. To prevent this, the hotel needs to improve or add more amenities. Otherwise, guests might choose other hotels, and the hotel could lose money. So, it is important to consider all insights and take action to ensure positive business impact."
      ],
      "metadata": {
        "id": "_WtzZ_hCYuh4"
      }
    }
  ]
}