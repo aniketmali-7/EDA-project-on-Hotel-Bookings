{
  "nbformat": 4,
  "nbformat_minor": 0,
  "metadata": {
    "colab": {
      "private_outputs": true,
      "provenance": [],
      "include_colab_link": true
    },
    "kernelspec": {
      "name": "python3",
      "display_name": "Python 3"
    },
    "language_info": {
      "name": "python"
    }
  },
  "cells": [
    {
      "cell_type": "markdown",
      "metadata": {
        "id": "view-in-github",
        "colab_type": "text"
      },
      "source": [
        "<a href=\"https://colab.research.google.com/github/aniketmali-7/EDA-project-on-Hotel-Bookings/blob/main/Copy_of_HotelBooking.ipynb\" target=\"_parent\"><img src=\"https://colab.research.google.com/assets/colab-badge.svg\" alt=\"Open In Colab\"/></a>"
      ]
    },
    {
      "cell_type": "markdown",
      "source": [
        "# **Hotel Booking Analysis**    \n",
        "\n"
      ],
      "metadata": {
        "id": "vncDsAP0Gaoa"
      }
    },
    {
      "cell_type": "markdown",
      "source": [
        "##### **Project Type**    - EDA\n",
        "##### **Contribution**    - Team\n",
        "##### **Team Member 1 -** - Aniket Mali\n",
        "##### **Team Member 2 -** - Rishabh Kaundilya\n",
        "##### **Team Member 3 -** - Suraj Kumar\n",
        "##### **Team Member 4 -**"
      ],
      "metadata": {
        "id": "beRrZCGUAJYm"
      }
    },
    {
      "cell_type": "markdown",
      "source": [
        "# **Project Summary**"
      ],
      "metadata": {
        "id": "FJNUwmbgGyua"
      }
    },
    {
      "cell_type": "markdown",
      "source": [
        "Hotel Booking EDA is an exploratory data analysis project that analyzes hotel booking data. The dataset used in the project contains information on bookings made by guests such as booking dates, lead times, number of adults/children, room types, and cancellation status. The main objective of this EDA is to gain insights into the booking patterns and trends of guests and to identify factors that contribute to booking cancellations.\n",
        "    The analysis includes data cleaning, data visualization, and statistical analysis using Python libraries such as pandas, numpy, matplotlib, and seaborn. The findings of this EDA can be useful for hotel managers and marketers to optimize their pricing strategies, room allocation, and cancellation policies.\n",
        "\n",
        "\n",
        "\n",
        "\n",
        "\n",
        "\n",
        "\n"
      ],
      "metadata": {
        "id": "F6v_1wHtG2nS"
      }
    },
    {
      "cell_type": "markdown",
      "source": [
        "# **GitHub Link**"
      ],
      "metadata": {
        "id": "w6K7xa23Elo4"
      }
    },
    {
      "cell_type": "markdown",
      "source": [
        "https://github.com/aniketmali-7/EDA-project-on-Hotel-Bookings.git"
      ],
      "metadata": {
        "id": "h1o69JH3Eqqn"
      }
    },
    {
      "cell_type": "markdown",
      "source": [
        "# **Problem Statement**\n"
      ],
      "metadata": {
        "id": "yQaldy8SH6Dl"
      }
    },
    {
      "cell_type": "markdown",
      "source": [
        "**The hotel industry is a highly competitive market, and hotels must continually update their strategies to remain profitable and attract customers.The aim of this project is to perform an exploratory data analysis (EDA) of hotel booking data to gain insights into guests' booking patterns and trends and to identify factors that contribute to booking cancellations,and also helps hotels to improve then to get more customers**"
      ],
      "metadata": {
        "id": "DpeJGUA3kjGy"
      }
    },
    {
      "cell_type": "markdown",
      "source": [
        "#### **Business Objective:**"
      ],
      "metadata": {
        "id": "PH-0ReGfmX4f"
      }
    },
    {
      "cell_type": "markdown",
      "source": [
        "**The agenda of  Hotel Booking EDA project is to provide valuable observations for there booking patterns and to identify factors that affects to booking cancellations and increse customers so that hotels can improve their operations, increase customer satisfaction, and increase revenue and profitability.**"
      ],
      "metadata": {
        "id": "PhDvGCAqmjP1"
      }
    },
    {
      "cell_type": "markdown",
      "source": [
        "# ***Let's Begin !***"
      ],
      "metadata": {
        "id": "O_i_v8NEhb9l"
      }
    },
    {
      "cell_type": "markdown",
      "source": [
        "## ***Let's Know Data***"
      ],
      "metadata": {
        "id": "HhfV-JJviCcP"
      }
    },
    {
      "cell_type": "markdown",
      "source": [
        "### Importing the Libraries"
      ],
      "metadata": {
        "id": "Y3lxredqlCYt"
      }
    },
    {
      "cell_type": "code",
      "source": [
        "# Import Libraries\n",
        "import pandas as pd\n",
        "import numpy as np\n",
        "import matplotlib.pyplot as plt\n",
        "import seaborn as sns"
      ],
      "metadata": {
        "id": "M8Vqi-pPk-HR"
      },
      "execution_count": null,
      "outputs": []
    },
    {
      "cell_type": "markdown",
      "source": [
        "### Dataset Loading"
      ],
      "metadata": {
        "id": "3RnN4peoiCZX"
      }
    },
    {
      "cell_type": "code",
      "source": [
        "# Loading Dataset which is on our drive by giving the path \n",
        "data_set_path='/content/EDA project/Hotel Bookings.csv'\n",
        "df=pd.read_csv(data_set_path)"
      ],
      "metadata": {
        "id": "DOWmFVDwYho3"
      },
      "execution_count": null,
      "outputs": []
    },
    {
      "cell_type": "markdown",
      "source": [
        "### Dataset First View"
      ],
      "metadata": {
        "id": "x71ZqKXriCWQ"
      }
    },
    {
      "cell_type": "code",
      "source": [
        "# Let's see frist view of our Dataset.\n",
        "df.head()"
      ],
      "metadata": {
        "id": "LWNFOSvLl09H"
      },
      "execution_count": null,
      "outputs": []
    },
    {
      "cell_type": "markdown",
      "source": [
        "### What did you know about your dataset?"
      ],
      "metadata": {
        "id": "3w3yNdCAM81g"
      }
    },
    {
      "cell_type": "markdown",
      "source": [
        "The dataset contains two hotel types: Resort Hotel and City Hotel.\n",
        "\n",
        "The booking period ranges from July 2015 to August 2017.\n",
        "\n",
        "There are two types of bookings: canceled and not canceled.\n",
        "\n",
        "There are several numerical and categorical variables that describe the booking information, including booking date, arrival and departure dates, number of adults and children, room type, meal type, and market segment.\n",
        "\n",
        "There are also several variables that describe the hotel information, including hotel location, hotel type, and the number of rooms.\n",
        "\n",
        "The dataset includes missing/null values in some columns, including the country, agent, and company columns.\n",
        "\n",
        "The dataset can be used for various purposes, such as exploring booking patterns, identifying seasonal trends, and predicting cancellation rates."
      ],
      "metadata": {
        "id": "YrmyOp3XM81g"
      }
    },
    {
      "cell_type": "markdown",
      "source": [
        "### Dataset Rows & Columns count"
      ],
      "metadata": {
        "id": "7hBIi_osiCS2"
      }
    },
    {
      "cell_type": "code",
      "source": [
        "# Dataset Rows & Columns count:\n",
        "\n",
        "df.shape # this will give total numner of rows and column (rows,columns)\n",
        "\n",
        "# In this dataset there is 119390 rows and 32 columns"
      ],
      "metadata": {
        "id": "Kllu7SJgmLij"
      },
      "execution_count": null,
      "outputs": []
    },
    {
      "cell_type": "markdown",
      "source": [
        "### Dataset Columns "
      ],
      "metadata": {
        "id": "WItilbbC3BCZ"
      }
    },
    {
      "cell_type": "code",
      "source": [
        "# total columns in dataset\n",
        "df.columns "
      ],
      "metadata": {
        "id": "1HE0fBKk3Ar5"
      },
      "execution_count": null,
      "outputs": []
    },
    {
      "cell_type": "markdown",
      "source": [
        "### Dataset Information"
      ],
      "metadata": {
        "id": "JlHwYmJAmNHm"
      }
    },
    {
      "cell_type": "code",
      "source": [
        "# Dataset Info\n",
        "df.info()"
      ],
      "metadata": {
        "id": "e9hRXRi6meOf"
      },
      "execution_count": null,
      "outputs": []
    },
    {
      "cell_type": "markdown",
      "source": [
        "### Discription of Data :\n",
        "\n",
        "\n",
        "\n",
        "\n",
        "**1.  hotel:** The type of (hotel Resort Hotel or City Hotel).\n",
        "\n",
        "**2.   is_canceled:** shows that  whether the booking was canceled or not \n",
        "                     (1 if canceled, 0 if not canceled).\n",
        "\n",
        "**3. \tlead_time:** The number of days between the booking date and the arrival date.  \n",
        "\n",
        "**4.\tarrival_date_year:** The year of the arrival date.\n",
        "\n",
        "**5.\tarrival_date_month:** The month of the arrival date.\n",
        "\n",
        "**6.\tarrival_date_week_number:** The week number of the arrival date.\n",
        "\n",
        "**7.\tarrival_date_day_of_month:** The day of the month of the arrival date.\n",
        "\n",
        "**8.\tstays_in_weekend_nights:** The number of weekend nights (sat and sun) the costomers stayed hotel.\n",
        "\n",
        "**9.\tstays_in_week_nights:** The number of week nights (mon-fri) the costomers stayed in hotel\n",
        "\n",
        "**10.\tadults:** The number of adults \n",
        "\n",
        "**11.\tchildren:** The number of children \n",
        "\n",
        "**12.\tbabies:** The number of babies \n",
        "\n",
        "**13.\tmeal:** The type of meal booked \n",
        "\n",
        "**14.\tcountry:** The country of origin of the guest.\n",
        "\n",
        "**15.\tmarket_segment:** The segment the booking was made for (e.g. Online Travel Agents, Corporate, Direct).\n",
        "\n",
        "**16.\tdistribution_channel:** The channel through which the booking was made (e.g. Online Travel Agents, Direct).\n",
        "\n",
        "**17.\tis_repeated_guest:** Indicates that whether the booking was made by a repeated guest or not (1 = repeated guest, 0 = not a repeated guest).\n",
        "\n",
        "**18.\tprevious_cancellations:** The number of previous bookings that were cancelled by the guest\n",
        "\n",
        "**19.\tprevious_bookings_not_canceled:** The number of previous bookings that were not cancelled by the guest.\n",
        "\n",
        "**20.\treserved_room_type:** The type of room that was reserved by the guest.\n",
        "\n",
        "**21.\tassigned_room_type:** The type of room that was actually assigned to the guest.\n",
        "\n",
        "**22.\tbooking_changes:** The changes made to the booking \n",
        "\n",
        "**23.\tdeposit_type:** The type of deposit.\n",
        "\n",
        "**24.\tagent:** The travel agency that made the booking.\n",
        "\n",
        "**25.\tdays_in_waiting_list:** The number of days the booking was on the waiting list \n",
        "\n",
        "**27.\tcustomer_type:** The type of booking \n",
        "\n",
        "**29.\trequired_car_parking_spaces:** The number of car parking spaces required by the customer.\n",
        "\n",
        "**30.\ttotal_of_special_requests:** The total number of special requests made by the customer (e.g. twin bed, high floor).\n",
        "\n",
        "**31.\treservation_status:** The status of the booking (e.g. Canceled, Check-Out, No-Show).\n",
        "\n",
        "**32.\treservation_status_date:** The date when the reservation status was last updated.\n",
        "\n",
        "\n",
        "\n",
        "\n",
        "\n",
        "\n",
        "\n",
        "\n",
        "\n",
        "\n",
        "  \n",
        "\n"
      ],
      "metadata": {
        "id": "1SwVk00xNxRs"
      }
    },
    {
      "cell_type": "code",
      "source": [
        "# Describeing the data which gives count mean,std,min,25%,50%,75% and max value of numerical data\n",
        "df.describe()"
      ],
      "metadata": {
        "id": "4TtAfmz3bEek"
      },
      "execution_count": null,
      "outputs": []
    },
    {
      "cell_type": "markdown",
      "source": [
        "# ***Data Cleaning***"
      ],
      "metadata": {
        "id": "-2CLHbirOl5O"
      }
    },
    {
      "cell_type": "markdown",
      "source": [
        "#### Duplicate Values"
      ],
      "metadata": {
        "id": "35m5QtbWiB9F"
      }
    },
    {
      "cell_type": "code",
      "source": [
        "# Let's find Dataset Duplicate Value Count\n",
        "dublicate_value_count=df.duplicated().value_counts()\n",
        "print(dublicate_value_count)"
      ],
      "metadata": {
        "id": "1sLdpKYkmox0"
      },
      "execution_count": null,
      "outputs": []
    },
    {
      "cell_type": "code",
      "source": [
        "# now let's visualize by plotting graph\n",
        "\n",
        "plt.rcParams['figure.figsize']=(10,5)\n",
        " \n",
        "dublicate_value_count.plot(kind='pie',explode = (0, 0.1),shadow=True, startangle=90,colors = ['red','Green'],autopct='%1.0f%%')\n",
        "plt.title('Dublicate Values in Data')\n",
        "plt.ylabel(' ')\n",
        "plt.xlabel('')"
      ],
      "metadata": {
        "id": "8S8ZmFyUdXiR"
      },
      "execution_count": null,
      "outputs": []
    },
    {
      "cell_type": "markdown",
      "source": [
        "\n",
        "\n",
        "*   Pie chart shows 27% of duplicate data in dataset. This means that a portion of the data is repeated, which can affect the accuracy of the analysis. It is important to identify and remove these duplicates to ensure reliable results.\n",
        "\n",
        "\n"
      ],
      "metadata": {
        "id": "EopLGQLEjtE9"
      }
    },
    {
      "cell_type": "code",
      "source": [
        "# so now let's drop unwanted dublicates from our data.\n",
        "df=df.drop_duplicates()"
      ],
      "metadata": {
        "id": "5J5T5ejkDK4t"
      },
      "execution_count": null,
      "outputs": []
    },
    {
      "cell_type": "code",
      "source": [
        "# now let's see shape of the df\n",
        "df.shape\n"
      ],
      "metadata": {
        "id": "i0ruyUjuE0Kt"
      },
      "execution_count": null,
      "outputs": []
    },
    {
      "cell_type": "markdown",
      "source": [
        "\n",
        "\n",
        "*   Now we successfuly removed the dublicates in dataframe\n",
        "\n",
        "\n"
      ],
      "metadata": {
        "id": "4uKjH4tSFNFz"
      }
    },
    {
      "cell_type": "markdown",
      "source": [
        "#### Missing Values/Null Values"
      ],
      "metadata": {
        "id": "PoPl-ycgm1ru"
      }
    },
    {
      "cell_type": "code",
      "source": [
        "# now let's handel the Missing Values/Null Values\n",
        "missing_values=df.isnull().sum()\n",
        "missing_values"
      ],
      "metadata": {
        "id": "GgHWkxvamxVg"
      },
      "execution_count": null,
      "outputs": []
    },
    {
      "cell_type": "markdown",
      "source": [
        "As we can see country , agent and company has Missing Values/Null Values, let's visualize this"
      ],
      "metadata": {
        "id": "a-KFLy8LF-M-"
      }
    },
    {
      "cell_type": "code",
      "source": [
        "# Calculate the percentage of missing values in each column\n",
        "missing_values = df.isnull().mean() * 100\n",
        "\n",
        "# Create a bar chart of missing values\n",
        "plt.figure(figsize=(10, 5))\n",
        "missing_values.plot.bar()\n",
        "plt.xlabel('Variables')\n",
        "plt.ylabel('Percentage of Missing Values')\n",
        "plt.title('Missing Values by Variables')"
      ],
      "metadata": {
        "id": "9IySibubJjh3"
      },
      "execution_count": null,
      "outputs": []
    },
    {
      "cell_type": "markdown",
      "source": [
        "\n",
        "\n",
        "*   Country, Agent, and Company are variables in the hotel booking dataset that have missing/null values. Country represents the country of origin for the booking, Agent represents the ID of the travel agency that made the booking, and Company represents the ID of the company/entity that made the booking or responsible for paying the booking. It's important to handle missing/null values to avoid any bad impact on the results of data analysis and modeling.\n",
        "\n",
        "\n"
      ],
      "metadata": {
        "id": "e04EsSDsKe7g"
      }
    },
    {
      "cell_type": "code",
      "source": [
        "# filling null vlues with zero\n",
        "null_columns=['agent','children','company']\n",
        "for col in null_columns:\n",
        "  df[col].fillna(0,inplace=True)\n",
        "\n",
        "# df['agent'].fillna(0, inplace = True)\n",
        "# df['children'].fillna(0, inplace = True)\n",
        "# df['company'].fillna(0, inplace = True)\n"
      ],
      "metadata": {
        "id": "ClW-QjjrVxl4"
      },
      "execution_count": null,
      "outputs": []
    },
    {
      "cell_type": "markdown",
      "source": [
        "\n",
        "\n",
        "*   It is possible that there are situations where customers have not booked hotels through any company or agent. In such cases, the company and agent columns may have null values. To address this, we will replace any null values in these columns with a value of 0.\n",
        "\n",
        "\n"
      ],
      "metadata": {
        "id": "ReQMtMh6VD5b"
      }
    },
    {
      "cell_type": "code",
      "source": [
        "# replacing N/A values by others\n",
        "df['country'].fillna('others',inplace= True)"
      ],
      "metadata": {
        "id": "UY2VKCj6VZU8"
      },
      "execution_count": null,
      "outputs": []
    },
    {
      "cell_type": "markdown",
      "source": [
        "\n",
        "\n",
        "*   While observing the hotel booking data, we found that some of the country values were missing and marked as N/A. We think that this might be because those countries were not included in the dataset. To deal with this issue, we chose to replace the missing values with the word \"others\".\n",
        "\n",
        "\n"
      ],
      "metadata": {
        "id": "XmGhzhfhWMAc"
      }
    },
    {
      "cell_type": "code",
      "source": [
        "# checking the null values again\n",
        "df.isna().sum()"
      ],
      "metadata": {
        "id": "WjQ7R_zJXSHu"
      },
      "execution_count": null,
      "outputs": []
    },
    {
      "cell_type": "code",
      "source": [
        "# We removed 166 rows from the dataset where no hotel bookings were made\n",
        "lenght=len(df[df['adults']+df['children']+df['babies']==0])\n",
        "df.drop(df[df['adults']+df['children']+df['babies']==0].index,inplace=True)"
      ],
      "metadata": {
        "id": "1zQVmyAJZ_8s"
      },
      "execution_count": null,
      "outputs": []
    },
    {
      "cell_type": "markdown",
      "source": [
        "* We found 166 rows in the dataset where the total number of adults, children, and babies was zero. This means that no hotel bookings were made for those guest. To deal with this, we chose to remove these rows from the dataset."
      ],
      "metadata": {
        "id": "Du0oL1mWl6Ts"
      }
    },
    {
      "cell_type": "code",
      "source": [
        "df[['children', 'company','agent']]=df[['children', 'company','agent']].astype('int64')"
      ],
      "metadata": {
        "id": "U5IHM6GJmRs-"
      },
      "execution_count": null,
      "outputs": []
    },
    {
      "cell_type": "markdown",
      "source": [
        "* We want to change the datatype of the 'children', 'company', and 'agent' columns from float to integer because these columns contain values that are whole numbers. Representing them as integers makes more sense than using floating-point numbers, which can be more precise."
      ],
      "metadata": {
        "id": "pme-v_2wncJj"
      }
    },
    {
      "cell_type": "code",
      "source": [
        "# We are converting the data type of the 'reservation_status_date' column to a data_type.\n",
        "df['reservation_status_date']=pd.to_datetime(df['reservation_status_date'],format = '%Y-%m-%d')"
      ],
      "metadata": {
        "id": "w_GWt9KmoFZp"
      },
      "execution_count": null,
      "outputs": []
    },
    {
      "cell_type": "markdown",
      "source": [
        "* converting the 'reservation_status_date' column to a date format can also help to improve the accuracy and efficiency of time-based operations and calculations."
      ],
      "metadata": {
        "id": "n0ZUfvRVs7Qc"
      }
    },
    {
      "cell_type": "code",
      "source": [
        "# adding total staying days column in dataset\n",
        "df['Total_staying_days']=df['stays_in_week_nights']+df['stays_in_weekend_nights']"
      ],
      "metadata": {
        "id": "5J826-8OtDgR"
      },
      "execution_count": null,
      "outputs": []
    },
    {
      "cell_type": "markdown",
      "source": [
        "* This manuplation is done to find how many days a guest satyed in ."
      ],
      "metadata": {
        "id": "saM9ytdyt4ti"
      }
    },
    {
      "cell_type": "code",
      "source": [
        "# adding total number of guests\n",
        "df['Total_guests']=df['adults']+df['children']+df['babies'] "
      ],
      "metadata": {
        "id": "CTrWxycCuJcH"
      },
      "execution_count": null,
      "outputs": []
    },
    {
      "cell_type": "markdown",
      "source": [
        "* This manuplation is done to find how many guests satyed in ."
      ],
      "metadata": {
        "id": "rgJrEEAPuyIt"
      }
    },
    {
      "cell_type": "markdown",
      "source": [
        "### What all manipulations have you done and insights you found?"
      ],
      "metadata": {
        "id": "MSa1f5Uengrz"
      }
    },
    {
      "cell_type": "markdown",
      "source": [
        "\n",
        "**Data Manuplation Done:**\n",
        "\n",
        "In this data manipulations for a hotel booking dataset include cleaning the data, handling missing values finding duplicate vlues.\n",
        "\n",
        "*The following data manipulations are done in this data:*\n",
        "\n",
        "1.filling/replacing null values with 0\n",
        "\n",
        "2.Replacing NA values with 'others\n",
        "\n",
        "3.Removed 166 rows from the dataset where the sum of the number of adults, children, and babies is zero. \n",
        "\n",
        "4.Converted datatype of columns 'children', 'company' and 'agent' from float to int.\n",
        "\n",
        "5.Changed datatype of column 'reservation_status_date' to date time format\n",
        "\n",
        "6.Total staying days in hotels is added to dataset\n",
        "\n",
        "7.Added total number of people in columns.\n",
        "\n",
        "..............................................................................\n",
        "\n",
        "**Insights according me :** \n",
        "add letter here\n"
      ],
      "metadata": {
        "id": "LbyXE7I1olp8"
      }
    }
  ]
}